{
 "cells": [
  {
   "cell_type": "code",
   "execution_count": 1,
   "id": "6d7a7b48",
   "metadata": {
    "scrolled": true
   },
   "outputs": [
    {
     "name": "stdout",
     "output_type": "stream",
     "text": [
      "Name: mlflow\n",
      "Version: 2.4.1\n",
      "Summary: MLflow: A Platform for ML Development and Productionization\n",
      "Home-page: https://mlflow.org/\n",
      "Author: Databricks\n",
      "Author-email: \n",
      "License: Apache License 2.0\n",
      "Location: c:\\users\\gaikw\\anaconda3\\lib\\site-packages\n",
      "Requires: alembic, click, cloudpickle, databricks-cli, docker, entrypoints, Flask, gitpython, importlib-metadata, Jinja2, markdown, matplotlib, numpy, packaging, pandas, protobuf, pyarrow, pytz, pyyaml, querystring-parser, requests, scikit-learn, scipy, sqlalchemy, sqlparse, waitress\n",
      "Required-by: \n"
     ]
    }
   ],
   "source": [
    "!pip show mlflow"
   ]
  },
  {
   "cell_type": "code",
   "execution_count": 2,
   "id": "53fda479",
   "metadata": {},
   "outputs": [],
   "source": [
    "from argparse import Namespace\n",
    "import mlflow\n",
    "from pathlib import Path\n",
    "import warnings\n",
    "warnings.filterwarnings('ignore')"
   ]
  },
  {
   "cell_type": "code",
   "execution_count": 3,
   "id": "1ba14f41",
   "metadata": {},
   "outputs": [],
   "source": [
    "import utils\n",
    "import json"
   ]
  },
  {
   "cell_type": "code",
   "execution_count": 4,
   "id": "fe59b367",
   "metadata": {},
   "outputs": [],
   "source": [
    "# Specify arguments\n",
    "args = Namespace(\n",
    "    lower=True,\n",
    "    stem=False,\n",
    "    analyzer=\"char\",\n",
    "    ngram_max_range=7,\n",
    "    alpha=1e-4,\n",
    "    learning_rate=1e-1,\n",
    "    power_t=0.1,\n",
    "    num_epochs=50,\n",
    "    max_features='log2',\n",
    "    min_samples_split=3,\n",
    "    n_estimators=264\n",
    ")"
   ]
  },
  {
   "cell_type": "code",
   "execution_count": 5,
   "id": "8ebe0609",
   "metadata": {},
   "outputs": [],
   "source": [
    "# Set tracking URI\n",
    "MODEL_REGISTRY = Path(\"../mlruns\")    #name of experiment folder\n",
    "Path(MODEL_REGISTRY).mkdir(exist_ok=True) # create experiments dir\n",
    "mlflow.set_tracking_uri(\"file:///\" + str(MODEL_REGISTRY.absolute()))"
   ]
  },
  {
   "cell_type": "code",
   "execution_count": 6,
   "id": "e4468e0d",
   "metadata": {},
   "outputs": [],
   "source": [
    "import pandas as pd\n",
    "df = pd.read_csv(r\"C:\\Users\\gaikw\\Desktop\\Data Science\\projects\\mlopsDQ\\data\\sample_adv_features.csv\",nrows=10000)\n",
    "df = df.drop(['Unnamed: 0.1','Unnamed: 0','qid1','qid2'],axis=1)"
   ]
  },
  {
   "cell_type": "code",
   "execution_count": 21,
   "id": "1de5aaba",
   "metadata": {},
   "outputs": [],
   "source": [
    "import numpy as np\n",
    "from sklearn.linear_model import SGDClassifier\n",
    "from sklearn.ensemble import RandomForestClassifier\n",
    "from sklearn.metrics import log_loss, precision_recall_fscore_support\n",
    "from tqdm.notebook import tqdm\n",
    "import optuna"
   ]
  },
  {
   "cell_type": "code",
   "execution_count": 9,
   "id": "95337a8d",
   "metadata": {},
   "outputs": [],
   "source": [
    "def train(args,df,trial=None,clean=False):\n",
    "    #setup\n",
    "    utils.set_seeds()\n",
    "    df = pd.read_csv(r\"C:\\Users\\gaikw\\Desktop\\Data Science\\projects\\mlopsDQ\\data\\sample_adv_features.csv\",nrows=10000)\n",
    "    df = df.drop(['Unnamed: 0.1','Unnamed: 0','qid1','qid2'],axis=1)\n",
    "    if clean:\n",
    "        df.questio1 = df.question1.apply(utlis.prerocess)  ##data is already preprocessed\n",
    "        df.questio1 = df.question1.apply(utlis.prerocess)  ##data is already preprocessed\n",
    "    \n",
    "    ##Feature extraction and tfidf Vectorization\n",
    "    data = []\n",
    "    for q1,q2 in tqdm(zip(df.question1.values,df.question2.values)):\n",
    "        data.append(utils.query_point_creator(q1,q2))\n",
    "    data=np.array(data)\n",
    "    data=data.reshape(10000,6022)\n",
    "    X = pd.DataFrame(data)\n",
    "    y = df.is_duplicate\n",
    "    \n",
    "    #train_test_split\n",
    "    X_train, X_val, X_test, y_train, y_val, y_test=utils.get_data_splits(X,y)\n",
    "    \n",
    "    #model\n",
    "    model = SGDClassifier(\n",
    "            loss=\"log\", penalty=\"l2\", alpha=args.alpha, max_iter=1,\n",
    "            learning_rate=\"constant\", eta0=args.learning_rate, power_t=args.power_t, warm_start=True)\n",
    "#     model = RandomForestClassifier(max_features=args.max_features, min_samples_split=args.min_samples_split,\n",
    "#                        n_estimators=args.n_estimators)\n",
    "    \n",
    "    #training\n",
    "    for epoch in tqdm(range(args.num_epochs)):\n",
    "        model.fit(X_train, y_train)\n",
    "        train_loss = log_loss(y_train, model.predict_proba(X_train))\n",
    "        val_loss = log_loss(y_val, model.predict_proba(X_val))\n",
    "        if not epoch%10:\n",
    "            print(\n",
    "                f\"Epoch: {epoch:02d} | \"\n",
    "                f\"train_loss: {train_loss:.5f}, \"\n",
    "                f\"val_loss: {val_loss:.5f}\"\n",
    "            )\n",
    "        # ml-flow Log\n",
    "        if not trial:\n",
    "            mlflow.log_metrics({\"train_loss\": train_loss, \"val_loss\": val_loss}, step=epoch)\n",
    "            \n",
    "#         Pruning (for optimization )\n",
    "        if trial:\n",
    "            trial.report(val_loss, epoch)\n",
    "            if trial.should_prune():\n",
    "                raise optuna.TrialPruned()\n",
    "    \n",
    "    # Threshold\n",
    "    y_pred = model.predict(X_val)\n",
    "    y_prob = model.predict_proba(X_val)\n",
    "    args.threshold = np.quantile(\n",
    "        [y_prob[i][j] for i, j in enumerate(y_pred)], q=0.25)  # Q1\n",
    "    \n",
    "    # Evaluation\n",
    "    y_prob = model.predict_proba(X_test)\n",
    "    y_pred = model.predict(X_test)\n",
    "#     y_pred = utils.custom_predict(y_prob=y_prob, threshold=args.threshold, index=0)\n",
    "    metrics = precision_recall_fscore_support(y_test, y_pred, average=\"binary\")\n",
    "    performance = {\"precision\": metrics[0], \"recall\": metrics[1], \"f1\": metrics[2]}\n",
    "    print (json.dumps(performance, indent=2))\n",
    "    \n",
    "    return {\n",
    "        \"args\": args,\n",
    "        \"model\": model,\n",
    "        \"performance\": performance\n",
    "    }   "
   ]
  },
  {
   "cell_type": "markdown",
   "id": "8c6a7e52",
   "metadata": {},
   "source": [
    "**Tracking**"
   ]
  },
  {
   "cell_type": "code",
   "execution_count": 10,
   "id": "eee3dd44",
   "metadata": {},
   "outputs": [],
   "source": [
    "import joblib\n",
    "import tempfile"
   ]
  },
  {
   "cell_type": "code",
   "execution_count": 11,
   "id": "70001e2b",
   "metadata": {},
   "outputs": [
    {
     "data": {
      "text/plain": [
       "<Experiment: artifact_location=('file:///C:\\\\Users\\\\gaikw\\\\Desktop\\\\Data '\n",
       " 'Science\\\\projects\\\\mlopsDQ\\\\notebooks\\\\..\\\\experiments/165876016812443962'), creation_time=1686997405361, experiment_id='165876016812443962', last_update_time=1686997405361, lifecycle_stage='active', name='baselines', tags={}>"
      ]
     },
     "execution_count": 11,
     "metadata": {},
     "output_type": "execute_result"
    }
   ],
   "source": [
    "# Set experiment\n",
    "mlflow.set_experiment(experiment_name=\"baselines\")"
   ]
  },
  {
   "cell_type": "code",
   "execution_count": 12,
   "id": "d64f7da8",
   "metadata": {},
   "outputs": [],
   "source": [
    "def save_dict(d, filepath):\n",
    "    \"\"\"Save dict to a json file.\"\"\"\n",
    "    with open(filepath, \"w\") as fp:\n",
    "        json.dump(d, indent=2, sort_keys=False, fp=fp)"
   ]
  },
  {
   "cell_type": "code",
   "execution_count": 13,
   "id": "bdb186cb",
   "metadata": {},
   "outputs": [
    {
     "data": {
      "application/vnd.jupyter.widget-view+json": {
       "model_id": "d24d53ad1e4b4ffca480aebc9df8d408",
       "version_major": 2,
       "version_minor": 0
      },
      "text/plain": [
       "0it [00:00, ?it/s]"
      ]
     },
     "metadata": {},
     "output_type": "display_data"
    },
    {
     "data": {
      "application/vnd.jupyter.widget-view+json": {
       "model_id": "dab7d75e5fb4440b842fb0abf2017d20",
       "version_major": 2,
       "version_minor": 0
      },
      "text/plain": [
       "  0%|          | 0/50 [00:00<?, ?it/s]"
      ]
     },
     "metadata": {},
     "output_type": "display_data"
    },
    {
     "name": "stdout",
     "output_type": "stream",
     "text": [
      "Epoch: 00 | train_loss: 17.94459, val_loss: 17.94974\n",
      "Epoch: 10 | train_loss: 17.94459, val_loss: 17.94974\n",
      "Epoch: 20 | train_loss: 11.25783, val_loss: 11.29327\n",
      "Epoch: 30 | train_loss: 16.12747, val_loss: 15.89963\n",
      "Epoch: 40 | train_loss: 17.94459, val_loss: 17.94974\n",
      "{\n",
      "  \"precision\": 0.7407407407407407,\n",
      "  \"recall\": 0.02677376171352075,\n",
      "  \"f1\": 0.05167958656330749\n",
      "}\n"
     ]
    }
   ],
   "source": [
    "# Tracking\n",
    "with mlflow.start_run(run_name=\"sgd\"):\n",
    "\n",
    "    # Train & evaluate\n",
    "    artifacts = train(args=args, df=df)\n",
    "\n",
    "    # Log key metrics\n",
    "    mlflow.log_metrics({\"precision\": artifacts[\"performance\"][\"precision\"]})\n",
    "    mlflow.log_metrics({\"recall\": artifacts[\"performance\"][\"recall\"]})\n",
    "    mlflow.log_metrics({\"f1\": artifacts[\"performance\"][\"f1\"]})\n",
    "    \n",
    "    # Log artifacts\n",
    "    with tempfile.TemporaryDirectory() as dp:\n",
    "#         artifacts[\"label_encoder\"].save(Path(dp, \"label_encoder.json\"))\n",
    "#         joblib.dump(artifacts[\"vectorizer\"], Path(dp, \"vectorizer.pkl\"))\n",
    "        joblib.dump(artifacts[\"model\"], Path(dp, \"model.pkl\"))\n",
    "        save_dict(artifacts[\"performance\"], Path(dp, \"performance.json\"))\n",
    "        mlflow.log_artifacts(dp)\n",
    "        \n",
    "    # Log parameters\n",
    "    mlflow.log_params(vars(artifacts[\"args\"]))"
   ]
  },
  {
   "cell_type": "markdown",
   "id": "9c52a8e3",
   "metadata": {},
   "source": [
    "**Loading**"
   ]
  },
  {
   "cell_type": "code",
   "execution_count": 14,
   "id": "ae0a57b9",
   "metadata": {},
   "outputs": [],
   "source": [
    "def load_dict(filepath):\n",
    "    \"\"\"Load a dict from a json file.\"\"\"\n",
    "    with open(filepath, \"r\") as fp:\n",
    "        d = json.load(fp)\n",
    "    return d"
   ]
  },
  {
   "cell_type": "code",
   "execution_count": 15,
   "id": "9c9aa9a3",
   "metadata": {},
   "outputs": [],
   "source": [
    "# Load all runs from experiment\n",
    "experiment_id = mlflow.get_experiment_by_name(\"baselines\").experiment_id\n",
    "all_runs = mlflow.search_runs(experiment_ids=experiment_id, order_by=[\"metrics.val_loss ASC\"])"
   ]
  },
  {
   "cell_type": "code",
   "execution_count": 17,
   "id": "41d465b9",
   "metadata": {
    "scrolled": true
   },
   "outputs": [],
   "source": [
    "# # Best run\n",
    "# best_run_id = all_runs.iloc[0].run_id\n",
    "# best_run = mlflow.get_run(run_id=best_run_id)\n",
    "# client = mlflow.tracking.MlflowClient()\n",
    "# with tempfile.TemporaryDirectory() as dp:\n",
    "#     client.download_artifacts(run_id=best_run_id, path=\"\", dst_path=dp)\n",
    "# #     vectorizer = joblib.load(Path(dp, \"vectorizer.pkl\"))\n",
    "# #     label_encoder = LabelEncoder.load(fp=Path(dp, \"label_encoder.json\"))\n",
    "#     model = joblib.load(Path(dp, \"model.pkl\"))\n",
    "#     performance = load_dict(filepath=Path(dp, \"performance.json\"))"
   ]
  },
  {
   "cell_type": "markdown",
   "id": "6450ab6b",
   "metadata": {},
   "source": [
    "**Optimization**"
   ]
  },
  {
   "cell_type": "code",
   "execution_count": 18,
   "id": "fcda3a61",
   "metadata": {},
   "outputs": [],
   "source": [
    "def objective(args, trial):\n",
    "    \"\"\"Objective function for optimization trials.\"\"\"\n",
    "    # Parameters to tune\n",
    "    args.analyzer = trial.suggest_categorical(\"analyzer\", [\"word\", \"char\", \"char_wb\"])\n",
    "    args.ngram_max_range = trial.suggest_int(\"ngram_max_range\", 3, 10)\n",
    "    args.learning_rate = trial.suggest_loguniform(\"learning_rate\", 1e-2, 1e0)\n",
    "    args.power_t = trial.suggest_uniform(\"power_t\", 0.1, 0.5)\n",
    "\n",
    "    # Train & evaluate\n",
    "    artifacts = train(args=args, df=df, trial=trial)\n",
    "\n",
    "    # Set additional attributes\n",
    "    performance = artifacts[\"performance\"]\n",
    "    print(json.dumps(performance, indent=2))\n",
    "    trial.set_user_attr(\"precision\", performance[\"precision\"])\n",
    "    trial.set_user_attr(\"recall\", performance[\"recall\"])\n",
    "    trial.set_user_attr(\"f1\", performance[\"f1\"])\n",
    "\n",
    "    return performance[\"f1\"]"
   ]
  },
  {
   "cell_type": "code",
   "execution_count": 19,
   "id": "fc4d6bb0",
   "metadata": {},
   "outputs": [],
   "source": [
    "from numpyencoder import NumpyEncoder\n",
    "from optuna.integration.mlflow import MLflowCallback"
   ]
  },
  {
   "cell_type": "code",
   "execution_count": 22,
   "id": "c3e67c30",
   "metadata": {},
   "outputs": [
    {
     "name": "stderr",
     "output_type": "stream",
     "text": [
      "\u001b[32m[I 2023-06-18 14:35:47,533]\u001b[0m A new study created in memory with name: optimization\u001b[0m\n"
     ]
    },
    {
     "data": {
      "application/vnd.jupyter.widget-view+json": {
       "model_id": "6f71ba73d6b1473694edf4d3a795fc32",
       "version_major": 2,
       "version_minor": 0
      },
      "text/plain": [
       "0it [00:00, ?it/s]"
      ]
     },
     "metadata": {},
     "output_type": "display_data"
    },
    {
     "data": {
      "application/vnd.jupyter.widget-view+json": {
       "model_id": "676534f2a7074511a3a2a630278db056",
       "version_major": 2,
       "version_minor": 0
      },
      "text/plain": [
       "  0%|          | 0/50 [00:00<?, ?it/s]"
      ]
     },
     "metadata": {},
     "output_type": "display_data"
    },
    {
     "name": "stdout",
     "output_type": "stream",
     "text": [
      "Epoch: 00 | train_loss: 17.94459, val_loss: 17.94974\n",
      "Epoch: 10 | train_loss: 17.93123, val_loss: 17.97377\n",
      "Epoch: 20 | train_loss: 12.35951, val_loss: 12.56853\n",
      "Epoch: 30 | train_loss: 14.29423, val_loss: 14.08348\n",
      "Epoch: 40 | train_loss: 12.18409, val_loss: 12.56635\n"
     ]
    },
    {
     "name": "stderr",
     "output_type": "stream",
     "text": [
      "\u001b[32m[I 2023-06-18 14:37:09,181]\u001b[0m Trial 0 finished with value: 0.3326403326403326 and parameters: {'analyzer': 'char', 'ngram_max_range': 7, 'learning_rate': 0.1745960695757196, 'power_t': 0.24460931148741297}. Best is trial 0 with value: 0.3326403326403326.\u001b[0m\n",
      "2023/06/18 14:37:09 INFO mlflow.tracking.fluent: Experiment with name 'optimization' does not exist. Creating a new experiment.\n"
     ]
    },
    {
     "name": "stdout",
     "output_type": "stream",
     "text": [
      "{\n",
      "  \"precision\": 0.7441860465116279,\n",
      "  \"recall\": 0.214190093708166,\n",
      "  \"f1\": 0.3326403326403326\n",
      "}\n",
      "{\n",
      "  \"precision\": 0.7441860465116279,\n",
      "  \"recall\": 0.214190093708166,\n",
      "  \"f1\": 0.3326403326403326\n",
      "}\n"
     ]
    },
    {
     "data": {
      "application/vnd.jupyter.widget-view+json": {
       "model_id": "1565c50a5ce44ad18916439e7fecac52",
       "version_major": 2,
       "version_minor": 0
      },
      "text/plain": [
       "0it [00:00, ?it/s]"
      ]
     },
     "metadata": {},
     "output_type": "display_data"
    },
    {
     "data": {
      "application/vnd.jupyter.widget-view+json": {
       "model_id": "c8d877f83eea44bba1caf5a5328d47bb",
       "version_major": 2,
       "version_minor": 0
      },
      "text/plain": [
       "  0%|          | 0/50 [00:00<?, ?it/s]"
      ]
     },
     "metadata": {},
     "output_type": "display_data"
    },
    {
     "name": "stdout",
     "output_type": "stream",
     "text": [
      "Epoch: 00 | train_loss: 17.94459, val_loss: 17.94974\n",
      "Epoch: 10 | train_loss: 12.01719, val_loss: 12.29997\n",
      "Epoch: 20 | train_loss: 11.53667, val_loss: 11.48882\n",
      "Epoch: 30 | train_loss: 13.03519, val_loss: 12.93999\n",
      "Epoch: 40 | train_loss: 17.94459, val_loss: 17.94974\n"
     ]
    },
    {
     "name": "stderr",
     "output_type": "stream",
     "text": [
      "\u001b[32m[I 2023-06-18 14:38:28,879]\u001b[0m Trial 1 finished with value: 0.5751533742331288 and parameters: {'analyzer': 'char_wb', 'ngram_max_range': 6, 'learning_rate': 0.21822319443551513, 'power_t': 0.1931773301154395}. Best is trial 1 with value: 0.5751533742331288.\u001b[0m\n"
     ]
    },
    {
     "name": "stdout",
     "output_type": "stream",
     "text": [
      "{\n",
      "  \"precision\": 0.6732495511669659,\n",
      "  \"recall\": 0.5020080321285141,\n",
      "  \"f1\": 0.5751533742331288\n",
      "}\n",
      "{\n",
      "  \"precision\": 0.6732495511669659,\n",
      "  \"recall\": 0.5020080321285141,\n",
      "  \"f1\": 0.5751533742331288\n",
      "}\n"
     ]
    },
    {
     "data": {
      "application/vnd.jupyter.widget-view+json": {
       "model_id": "5fadf04bb731427c948d1d2678e63b89",
       "version_major": 2,
       "version_minor": 0
      },
      "text/plain": [
       "0it [00:00, ?it/s]"
      ]
     },
     "metadata": {},
     "output_type": "display_data"
    },
    {
     "data": {
      "application/vnd.jupyter.widget-view+json": {
       "model_id": "687accc1cc1a4a149d36c769e11cd1e6",
       "version_major": 2,
       "version_minor": 0
      },
      "text/plain": [
       "  0%|          | 0/50 [00:00<?, ?it/s]"
      ]
     },
     "metadata": {},
     "output_type": "display_data"
    },
    {
     "name": "stdout",
     "output_type": "stream",
     "text": [
      "Epoch: 00 | train_loss: 17.94459, val_loss: 17.94974\n",
      "Epoch: 10 | train_loss: 17.91370, val_loss: 17.99780\n",
      "Epoch: 20 | train_loss: 14.12598, val_loss: 13.74011\n",
      "Epoch: 30 | train_loss: 13.06407, val_loss: 12.60167\n",
      "Epoch: 40 | train_loss: 13.84608, val_loss: 13.82923\n"
     ]
    },
    {
     "name": "stderr",
     "output_type": "stream",
     "text": [
      "\u001b[32m[I 2023-06-18 14:39:46,852]\u001b[0m Trial 2 finished with value: 0.0026631158455392807 and parameters: {'analyzer': 'char', 'ngram_max_range': 7, 'learning_rate': 0.20990214536757826, 'power_t': 0.3491611351618473}. Best is trial 1 with value: 0.5751533742331288.\u001b[0m\n"
     ]
    },
    {
     "name": "stdout",
     "output_type": "stream",
     "text": [
      "{\n",
      "  \"precision\": 0.25,\n",
      "  \"recall\": 0.0013386880856760374,\n",
      "  \"f1\": 0.0026631158455392807\n",
      "}\n",
      "{\n",
      "  \"precision\": 0.25,\n",
      "  \"recall\": 0.0013386880856760374,\n",
      "  \"f1\": 0.0026631158455392807\n",
      "}\n"
     ]
    },
    {
     "data": {
      "application/vnd.jupyter.widget-view+json": {
       "model_id": "04f9c9362354494398714ee0d952cd4a",
       "version_major": 2,
       "version_minor": 0
      },
      "text/plain": [
       "0it [00:00, ?it/s]"
      ]
     },
     "metadata": {},
     "output_type": "display_data"
    },
    {
     "data": {
      "application/vnd.jupyter.widget-view+json": {
       "model_id": "cc3089cd72f94d889eaa10f1cdec8701",
       "version_major": 2,
       "version_minor": 0
      },
      "text/plain": [
       "  0%|          | 0/50 [00:00<?, ?it/s]"
      ]
     },
     "metadata": {},
     "output_type": "display_data"
    },
    {
     "name": "stdout",
     "output_type": "stream",
     "text": [
      "Epoch: 00 | train_loss: 17.47401, val_loss: 17.43606\n",
      "Epoch: 10 | train_loss: 11.77880, val_loss: 12.17982\n",
      "Epoch: 20 | train_loss: 11.11228, val_loss: 11.16350\n",
      "Epoch: 30 | train_loss: 11.73718, val_loss: 11.94485\n",
      "Epoch: 40 | train_loss: 12.26244, val_loss: 12.39341\n"
     ]
    },
    {
     "name": "stderr",
     "output_type": "stream",
     "text": [
      "\u001b[32m[I 2023-06-18 14:41:04,381]\u001b[0m Trial 3 finished with value: 0.00267379679144385 and parameters: {'analyzer': 'char_wb', 'ngram_max_range': 9, 'learning_rate': 0.03322795378389335, 'power_t': 0.153848550130522}. Best is trial 1 with value: 0.5751533742331288.\u001b[0m\n"
     ]
    },
    {
     "name": "stdout",
     "output_type": "stream",
     "text": [
      "{\n",
      "  \"precision\": 1.0,\n",
      "  \"recall\": 0.0013386880856760374,\n",
      "  \"f1\": 0.00267379679144385\n",
      "}\n",
      "{\n",
      "  \"precision\": 1.0,\n",
      "  \"recall\": 0.0013386880856760374,\n",
      "  \"f1\": 0.00267379679144385\n",
      "}\n"
     ]
    },
    {
     "data": {
      "application/vnd.jupyter.widget-view+json": {
       "model_id": "431632acce454330ae835881b8f067f4",
       "version_major": 2,
       "version_minor": 0
      },
      "text/plain": [
       "0it [00:00, ?it/s]"
      ]
     },
     "metadata": {},
     "output_type": "display_data"
    },
    {
     "data": {
      "application/vnd.jupyter.widget-view+json": {
       "model_id": "cdaf40a027384292888b3a3ab582cf7e",
       "version_major": 2,
       "version_minor": 0
      },
      "text/plain": [
       "  0%|          | 0/50 [00:00<?, ?it/s]"
      ]
     },
     "metadata": {},
     "output_type": "display_data"
    },
    {
     "name": "stdout",
     "output_type": "stream",
     "text": [
      "Epoch: 00 | train_loss: 14.51391, val_loss: 13.96997\n",
      "Epoch: 10 | train_loss: 11.47488, val_loss: 11.70592\n",
      "Epoch: 20 | train_loss: 11.01094, val_loss: 11.02273\n",
      "Epoch: 30 | train_loss: 10.48606, val_loss: 10.36098\n",
      "Epoch: 40 | train_loss: 16.45138, val_loss: 16.23971\n"
     ]
    },
    {
     "name": "stderr",
     "output_type": "stream",
     "text": [
      "\u001b[32m[I 2023-06-18 14:42:23,115]\u001b[0m Trial 4 finished with value: 0.32558139534883723 and parameters: {'analyzer': 'word', 'ngram_max_range': 7, 'learning_rate': 0.01751923479137445, 'power_t': 0.15145060765679014}. Best is trial 1 with value: 0.5751533742331288.\u001b[0m\n"
     ]
    },
    {
     "name": "stdout",
     "output_type": "stream",
     "text": [
      "{\n",
      "  \"precision\": 0.7738693467336684,\n",
      "  \"recall\": 0.20615796519410978,\n",
      "  \"f1\": 0.32558139534883723\n",
      "}\n",
      "{\n",
      "  \"precision\": 0.7738693467336684,\n",
      "  \"recall\": 0.20615796519410978,\n",
      "  \"f1\": 0.32558139534883723\n",
      "}\n"
     ]
    },
    {
     "data": {
      "application/vnd.jupyter.widget-view+json": {
       "model_id": "8f08fe91262c42d4bcb5202afe92a006",
       "version_major": 2,
       "version_minor": 0
      },
      "text/plain": [
       "0it [00:00, ?it/s]"
      ]
     },
     "metadata": {},
     "output_type": "display_data"
    },
    {
     "data": {
      "application/vnd.jupyter.widget-view+json": {
       "model_id": "bfb271ca9d254b089b0d2cfc4a700900",
       "version_major": 2,
       "version_minor": 0
      },
      "text/plain": [
       "  0%|          | 0/50 [00:00<?, ?it/s]"
      ]
     },
     "metadata": {},
     "output_type": "display_data"
    },
    {
     "name": "stdout",
     "output_type": "stream",
     "text": [
      "Epoch: 00 | train_loss: 17.94459, val_loss: 17.94974\n",
      "Epoch: 10 | train_loss: 11.37481, val_loss: 11.67551\n",
      "Epoch: 20 | train_loss: 11.83209, val_loss: 11.75754\n",
      "Epoch: 30 | train_loss: 16.63292, val_loss: 16.48097\n",
      "Epoch: 40 | train_loss: 17.25424, val_loss: 17.07426\n"
     ]
    },
    {
     "name": "stderr",
     "output_type": "stream",
     "text": [
      "\u001b[32m[I 2023-06-18 14:43:42,872]\u001b[0m Trial 5 finished with value: 0.07848101265822786 and parameters: {'analyzer': 'word', 'ngram_max_range': 5, 'learning_rate': 0.040124674854010806, 'power_t': 0.1358641678878744}. Best is trial 1 with value: 0.5751533742331288.\u001b[0m\n"
     ]
    },
    {
     "name": "stdout",
     "output_type": "stream",
     "text": [
      "{\n",
      "  \"precision\": 0.7209302325581395,\n",
      "  \"recall\": 0.041499330655957165,\n",
      "  \"f1\": 0.07848101265822786\n",
      "}\n",
      "{\n",
      "  \"precision\": 0.7209302325581395,\n",
      "  \"recall\": 0.041499330655957165,\n",
      "  \"f1\": 0.07848101265822786\n",
      "}\n"
     ]
    },
    {
     "data": {
      "application/vnd.jupyter.widget-view+json": {
       "model_id": "d88fee716ac94b0c96f31f359da8401b",
       "version_major": 2,
       "version_minor": 0
      },
      "text/plain": [
       "0it [00:00, ?it/s]"
      ]
     },
     "metadata": {},
     "output_type": "display_data"
    },
    {
     "data": {
      "application/vnd.jupyter.widget-view+json": {
       "model_id": "d5526bfd9bc046aa9c16919f4d80021a",
       "version_major": 2,
       "version_minor": 0
      },
      "text/plain": [
       "  0%|          | 0/50 [00:00<?, ?it/s]"
      ]
     },
     "metadata": {},
     "output_type": "display_data"
    },
    {
     "name": "stdout",
     "output_type": "stream",
     "text": [
      "Epoch: 00 | train_loss: 17.94459, val_loss: 17.94974\n",
      "Epoch: 10 | train_loss: 11.29156, val_loss: 11.40454\n",
      "Epoch: 20 | train_loss: 10.10977, val_loss: 10.29480\n",
      "Epoch: 30 | train_loss: 15.03288, val_loss: 14.76011\n",
      "Epoch: 40 | train_loss: 16.82922, val_loss: 16.61386\n"
     ]
    },
    {
     "name": "stderr",
     "output_type": "stream",
     "text": [
      "\u001b[32m[I 2023-06-18 14:45:03,660]\u001b[0m Trial 6 finished with value: 0.0 and parameters: {'analyzer': 'char', 'ngram_max_range': 9, 'learning_rate': 0.015098026826918963, 'power_t': 0.2112766284936033}. Best is trial 1 with value: 0.5751533742331288.\u001b[0m\n"
     ]
    },
    {
     "name": "stdout",
     "output_type": "stream",
     "text": [
      "{\n",
      "  \"precision\": 0.0,\n",
      "  \"recall\": 0.0,\n",
      "  \"f1\": 0.0\n",
      "}\n",
      "{\n",
      "  \"precision\": 0.0,\n",
      "  \"recall\": 0.0,\n",
      "  \"f1\": 0.0\n",
      "}\n"
     ]
    },
    {
     "data": {
      "application/vnd.jupyter.widget-view+json": {
       "model_id": "75b253120d81484cb34f31d99a477286",
       "version_major": 2,
       "version_minor": 0
      },
      "text/plain": [
       "0it [00:00, ?it/s]"
      ]
     },
     "metadata": {},
     "output_type": "display_data"
    },
    {
     "data": {
      "application/vnd.jupyter.widget-view+json": {
       "model_id": "f272ec114ae941c68c86be0b4638dbba",
       "version_major": 2,
       "version_minor": 0
      },
      "text/plain": [
       "  0%|          | 0/50 [00:00<?, ?it/s]"
      ]
     },
     "metadata": {},
     "output_type": "display_data"
    },
    {
     "name": "stdout",
     "output_type": "stream",
     "text": [
      "Epoch: 00 | train_loss: 14.97052, val_loss: 14.34679\n",
      "Epoch: 10 | train_loss: 12.55386, val_loss: 12.78848\n",
      "Epoch: 20 | train_loss: 10.69441, val_loss: 10.97922\n",
      "Epoch: 30 | train_loss: 16.51763, val_loss: 16.25635\n",
      "Epoch: 40 | train_loss: 11.81348, val_loss: 12.31351\n"
     ]
    },
    {
     "name": "stderr",
     "output_type": "stream",
     "text": [
      "\u001b[32m[I 2023-06-18 14:46:22,660]\u001b[0m Trial 7 finished with value: 0.4833782569631626 and parameters: {'analyzer': 'char', 'ngram_max_range': 8, 'learning_rate': 0.031062934312453987, 'power_t': 0.4765917029141259}. Best is trial 1 with value: 0.5751533742331288.\u001b[0m\n"
     ]
    },
    {
     "name": "stdout",
     "output_type": "stream",
     "text": [
      "{\n",
      "  \"precision\": 0.7349726775956285,\n",
      "  \"recall\": 0.36010709504685406,\n",
      "  \"f1\": 0.4833782569631626\n",
      "}\n",
      "{\n",
      "  \"precision\": 0.7349726775956285,\n",
      "  \"recall\": 0.36010709504685406,\n",
      "  \"f1\": 0.4833782569631626\n",
      "}\n"
     ]
    },
    {
     "data": {
      "application/vnd.jupyter.widget-view+json": {
       "model_id": "833ca6cc14df4a8e8d7dc5834bbb404d",
       "version_major": 2,
       "version_minor": 0
      },
      "text/plain": [
       "0it [00:00, ?it/s]"
      ]
     },
     "metadata": {},
     "output_type": "display_data"
    },
    {
     "data": {
      "application/vnd.jupyter.widget-view+json": {
       "model_id": "95d3d6c3012949c387054fb33d06b145",
       "version_major": 2,
       "version_minor": 0
      },
      "text/plain": [
       "  0%|          | 0/50 [00:00<?, ?it/s]"
      ]
     },
     "metadata": {},
     "output_type": "display_data"
    },
    {
     "name": "stdout",
     "output_type": "stream",
     "text": [
      "Epoch: 00 | train_loss: 17.94459, val_loss: 17.94974\n",
      "Epoch: 10 | train_loss: 17.45325, val_loss: 17.56656\n",
      "Epoch: 20 | train_loss: 16.91572, val_loss: 16.79769\n",
      "Epoch: 30 | train_loss: 9.99552, val_loss: 9.83574\n",
      "Epoch: 40 | train_loss: 15.66483, val_loss: 15.57290\n"
     ]
    },
    {
     "name": "stderr",
     "output_type": "stream",
     "text": [
      "\u001b[32m[I 2023-06-18 14:47:39,636]\u001b[0m Trial 8 finished with value: 0.3427377220480669 and parameters: {'analyzer': 'char_wb', 'ngram_max_range': 9, 'learning_rate': 0.012848840442187318, 'power_t': 0.1105252607445137}. Best is trial 1 with value: 0.5751533742331288.\u001b[0m\n"
     ]
    },
    {
     "name": "stdout",
     "output_type": "stream",
     "text": [
      "{\n",
      "  \"precision\": 0.780952380952381,\n",
      "  \"recall\": 0.21954484605087016,\n",
      "  \"f1\": 0.3427377220480669\n",
      "}\n",
      "{\n",
      "  \"precision\": 0.780952380952381,\n",
      "  \"recall\": 0.21954484605087016,\n",
      "  \"f1\": 0.3427377220480669\n",
      "}\n"
     ]
    },
    {
     "data": {
      "application/vnd.jupyter.widget-view+json": {
       "model_id": "14a09e0bcd964d4789be959edb42069f",
       "version_major": 2,
       "version_minor": 0
      },
      "text/plain": [
       "0it [00:00, ?it/s]"
      ]
     },
     "metadata": {},
     "output_type": "display_data"
    },
    {
     "data": {
      "application/vnd.jupyter.widget-view+json": {
       "model_id": "3d57f4f05ab941be8123b452ae985db5",
       "version_major": 2,
       "version_minor": 0
      },
      "text/plain": [
       "  0%|          | 0/50 [00:00<?, ?it/s]"
      ]
     },
     "metadata": {},
     "output_type": "display_data"
    },
    {
     "name": "stdout",
     "output_type": "stream",
     "text": [
      "Epoch: 00 | train_loss: 17.94459, val_loss: 17.94974\n",
      "Epoch: 10 | train_loss: 17.83612, val_loss: 17.83150\n",
      "Epoch: 20 | train_loss: 12.05555, val_loss: 12.04450\n",
      "Epoch: 30 | train_loss: 11.71320, val_loss: 11.91649\n",
      "Epoch: 40 | train_loss: 12.32135, val_loss: 12.70463\n"
     ]
    },
    {
     "name": "stderr",
     "output_type": "stream",
     "text": [
      "\u001b[32m[I 2023-06-18 14:48:57,356]\u001b[0m Trial 9 finished with value: 0.0 and parameters: {'analyzer': 'char_wb', 'ngram_max_range': 4, 'learning_rate': 0.0736281186563863, 'power_t': 0.3117816781482768}. Best is trial 1 with value: 0.5751533742331288.\u001b[0m\n"
     ]
    },
    {
     "name": "stdout",
     "output_type": "stream",
     "text": [
      "{\n",
      "  \"precision\": 0.0,\n",
      "  \"recall\": 0.0,\n",
      "  \"f1\": 0.0\n",
      "}\n",
      "{\n",
      "  \"precision\": 0.0,\n",
      "  \"recall\": 0.0,\n",
      "  \"f1\": 0.0\n",
      "}\n"
     ]
    },
    {
     "data": {
      "application/vnd.jupyter.widget-view+json": {
       "model_id": "fd9c9761a29949038de7d9923cc5714b",
       "version_major": 2,
       "version_minor": 0
      },
      "text/plain": [
       "0it [00:00, ?it/s]"
      ]
     },
     "metadata": {},
     "output_type": "display_data"
    },
    {
     "data": {
      "application/vnd.jupyter.widget-view+json": {
       "model_id": "8567913e82ea49e4bce9f1977d7cb41b",
       "version_major": 2,
       "version_minor": 0
      },
      "text/plain": [
       "  0%|          | 0/50 [00:00<?, ?it/s]"
      ]
     },
     "metadata": {},
     "output_type": "display_data"
    },
    {
     "name": "stdout",
     "output_type": "stream",
     "text": [
      "Epoch: 00 | train_loss: 17.94459, val_loss: 17.94974\n",
      "Epoch: 10 | train_loss: 17.93944, val_loss: 17.94974\n",
      "Epoch: 20 | train_loss: 14.71173, val_loss: 14.43125\n",
      "Epoch: 30 | train_loss: 11.83226, val_loss: 11.84634\n",
      "Epoch: 40 | train_loss: 11.89010, val_loss: 12.33474\n"
     ]
    },
    {
     "name": "stderr",
     "output_type": "stream",
     "text": [
      "\u001b[32m[I 2023-06-18 14:50:15,534]\u001b[0m Trial 10 finished with value: 0.0 and parameters: {'analyzer': 'char_wb', 'ngram_max_range': 3, 'learning_rate': 0.9218922324026961, 'power_t': 0.4156474905718887}. Best is trial 1 with value: 0.5751533742331288.\u001b[0m\n"
     ]
    },
    {
     "name": "stdout",
     "output_type": "stream",
     "text": [
      "{\n",
      "  \"precision\": 0.0,\n",
      "  \"recall\": 0.0,\n",
      "  \"f1\": 0.0\n",
      "}\n",
      "{\n",
      "  \"precision\": 0.0,\n",
      "  \"recall\": 0.0,\n",
      "  \"f1\": 0.0\n",
      "}\n"
     ]
    },
    {
     "data": {
      "application/vnd.jupyter.widget-view+json": {
       "model_id": "bc85e7898fe849e98fad70339fc79055",
       "version_major": 2,
       "version_minor": 0
      },
      "text/plain": [
       "0it [00:00, ?it/s]"
      ]
     },
     "metadata": {},
     "output_type": "display_data"
    },
    {
     "data": {
      "application/vnd.jupyter.widget-view+json": {
       "model_id": "194feace214041c88bfebb3b3e5731ed",
       "version_major": 2,
       "version_minor": 0
      },
      "text/plain": [
       "  0%|          | 0/50 [00:00<?, ?it/s]"
      ]
     },
     "metadata": {},
     "output_type": "display_data"
    },
    {
     "name": "stdout",
     "output_type": "stream",
     "text": [
      "Epoch: 00 | train_loss: 16.36384, val_loss: 16.34322\n",
      "Epoch: 10 | train_loss: 14.25591, val_loss: 14.37261\n",
      "Epoch: 20 | train_loss: 14.14001, val_loss: 13.68309\n",
      "Epoch: 30 | train_loss: 11.71405, val_loss: 12.06757\n",
      "Epoch: 40 | train_loss: 17.00187, val_loss: 16.99828\n"
     ]
    },
    {
     "name": "stderr",
     "output_type": "stream",
     "text": [
      "\u001b[32m[I 2023-06-18 14:51:31,873]\u001b[0m Trial 11 finished with value: 0.5992673992673992 and parameters: {'analyzer': 'char', 'ngram_max_range': 6, 'learning_rate': 0.471002488290957, 'power_t': 0.4930807550799224}. Best is trial 11 with value: 0.5992673992673992.\u001b[0m\n"
     ]
    },
    {
     "name": "stdout",
     "output_type": "stream",
     "text": [
      "{\n",
      "  \"precision\": 0.6618122977346278,\n",
      "  \"recall\": 0.5475234270414994,\n",
      "  \"f1\": 0.5992673992673992\n",
      "}\n",
      "{\n",
      "  \"precision\": 0.6618122977346278,\n",
      "  \"recall\": 0.5475234270414994,\n",
      "  \"f1\": 0.5992673992673992\n",
      "}\n"
     ]
    },
    {
     "data": {
      "application/vnd.jupyter.widget-view+json": {
       "model_id": "ebda811ae4cc469f86eb4a77df860767",
       "version_major": 2,
       "version_minor": 0
      },
      "text/plain": [
       "0it [00:00, ?it/s]"
      ]
     },
     "metadata": {},
     "output_type": "display_data"
    },
    {
     "data": {
      "application/vnd.jupyter.widget-view+json": {
       "model_id": "2cbb1aaea6e1464ab668718585f5a57d",
       "version_major": 2,
       "version_minor": 0
      },
      "text/plain": [
       "  0%|          | 0/50 [00:00<?, ?it/s]"
      ]
     },
     "metadata": {},
     "output_type": "display_data"
    },
    {
     "name": "stdout",
     "output_type": "stream",
     "text": [
      "Epoch: 00 | train_loss: 17.94459, val_loss: 17.94974\n",
      "Epoch: 10 | train_loss: 17.92399, val_loss: 17.94974\n",
      "Epoch: 20 | train_loss: 12.02139, val_loss: 12.31222\n",
      "Epoch: 30 | train_loss: 13.06495, val_loss: 13.04027\n",
      "Epoch: 40 | train_loss: 14.27400, val_loss: 14.25806\n"
     ]
    },
    {
     "name": "stderr",
     "output_type": "stream",
     "text": [
      "\u001b[32m[I 2023-06-18 14:52:49,374]\u001b[0m Trial 12 finished with value: 0.5429936305732486 and parameters: {'analyzer': 'char_wb', 'ngram_max_range': 5, 'learning_rate': 0.5454015416471906, 'power_t': 0.48181622485777337}. Best is trial 11 with value: 0.5992673992673992.\u001b[0m\n"
     ]
    },
    {
     "name": "stdout",
     "output_type": "stream",
     "text": [
      "{\n",
      "  \"precision\": 0.6699410609037328,\n",
      "  \"recall\": 0.4564926372155288,\n",
      "  \"f1\": 0.5429936305732486\n",
      "}\n",
      "{\n",
      "  \"precision\": 0.6699410609037328,\n",
      "  \"recall\": 0.4564926372155288,\n",
      "  \"f1\": 0.5429936305732486\n",
      "}\n"
     ]
    },
    {
     "data": {
      "application/vnd.jupyter.widget-view+json": {
       "model_id": "ae80612e08d443708a718f35d12e4354",
       "version_major": 2,
       "version_minor": 0
      },
      "text/plain": [
       "0it [00:00, ?it/s]"
      ]
     },
     "metadata": {},
     "output_type": "display_data"
    },
    {
     "data": {
      "application/vnd.jupyter.widget-view+json": {
       "model_id": "ff83c36dcf084024866b20ac7dc14436",
       "version_major": 2,
       "version_minor": 0
      },
      "text/plain": [
       "  0%|          | 0/50 [00:00<?, ?it/s]"
      ]
     },
     "metadata": {},
     "output_type": "display_data"
    },
    {
     "name": "stdout",
     "output_type": "stream",
     "text": [
      "Epoch: 00 | train_loss: 17.94459, val_loss: 17.94974\n",
      "Epoch: 10 | train_loss: 11.95878, val_loss: 11.93220\n",
      "Epoch: 20 | train_loss: 12.51378, val_loss: 12.59527\n",
      "Epoch: 30 | train_loss: 12.76273, val_loss: 12.82956\n",
      "Epoch: 40 | train_loss: 12.79690, val_loss: 12.83432\n"
     ]
    },
    {
     "name": "stderr",
     "output_type": "stream",
     "text": [
      "\u001b[32m[I 2023-06-18 14:54:10,402]\u001b[0m Trial 13 finished with value: 0.0 and parameters: {'analyzer': 'char', 'ngram_max_range': 5, 'learning_rate': 0.3381597352138705, 'power_t': 0.24075640598771536}. Best is trial 11 with value: 0.5992673992673992.\u001b[0m\n"
     ]
    },
    {
     "name": "stdout",
     "output_type": "stream",
     "text": [
      "{\n",
      "  \"precision\": 0.0,\n",
      "  \"recall\": 0.0,\n",
      "  \"f1\": 0.0\n",
      "}\n",
      "{\n",
      "  \"precision\": 0.0,\n",
      "  \"recall\": 0.0,\n",
      "  \"f1\": 0.0\n",
      "}\n"
     ]
    },
    {
     "data": {
      "application/vnd.jupyter.widget-view+json": {
       "model_id": "232c76ae95f342f69fd60d37504713b7",
       "version_major": 2,
       "version_minor": 0
      },
      "text/plain": [
       "0it [00:00, ?it/s]"
      ]
     },
     "metadata": {},
     "output_type": "display_data"
    },
    {
     "data": {
      "application/vnd.jupyter.widget-view+json": {
       "model_id": "10e02cffbcd8419e9d11a2cdfd2886c7",
       "version_major": 2,
       "version_minor": 0
      },
      "text/plain": [
       "  0%|          | 0/50 [00:00<?, ?it/s]"
      ]
     },
     "metadata": {},
     "output_type": "display_data"
    },
    {
     "name": "stdout",
     "output_type": "stream",
     "text": [
      "Epoch: 00 | train_loss: 17.94459, val_loss: 17.94974\n",
      "Epoch: 10 | train_loss: 12.14028, val_loss: 12.52554\n",
      "Epoch: 20 | train_loss: 11.69346, val_loss: 11.93547\n",
      "Epoch: 30 | train_loss: 16.82909, val_loss: 16.60593\n",
      "Epoch: 40 | train_loss: 17.94459, val_loss: 17.94974\n"
     ]
    },
    {
     "name": "stderr",
     "output_type": "stream",
     "text": [
      "\u001b[32m[I 2023-06-18 14:55:28,054]\u001b[0m Trial 14 finished with value: 0.5829596412556054 and parameters: {'analyzer': 'word', 'ngram_max_range': 6, 'learning_rate': 0.13274837242373805, 'power_t': 0.38486634952190435}. Best is trial 11 with value: 0.5992673992673992.\u001b[0m\n"
     ]
    },
    {
     "name": "stdout",
     "output_type": "stream",
     "text": [
      "{\n",
      "  \"precision\": 0.6598984771573604,\n",
      "  \"recall\": 0.5220883534136547,\n",
      "  \"f1\": 0.5829596412556054\n",
      "}\n",
      "{\n",
      "  \"precision\": 0.6598984771573604,\n",
      "  \"recall\": 0.5220883534136547,\n",
      "  \"f1\": 0.5829596412556054\n",
      "}\n"
     ]
    },
    {
     "data": {
      "application/vnd.jupyter.widget-view+json": {
       "model_id": "3cd9fc2a494d4e5990177634bbbc6e3e",
       "version_major": 2,
       "version_minor": 0
      },
      "text/plain": [
       "0it [00:00, ?it/s]"
      ]
     },
     "metadata": {},
     "output_type": "display_data"
    },
    {
     "data": {
      "application/vnd.jupyter.widget-view+json": {
       "model_id": "0e86cd8eb8b84c49a2155ede1a9bd63d",
       "version_major": 2,
       "version_minor": 0
      },
      "text/plain": [
       "  0%|          | 0/50 [00:00<?, ?it/s]"
      ]
     },
     "metadata": {},
     "output_type": "display_data"
    },
    {
     "name": "stdout",
     "output_type": "stream",
     "text": [
      "Epoch: 00 | train_loss: 17.94459, val_loss: 17.94974\n",
      "Epoch: 10 | train_loss: 12.03344, val_loss: 12.42403\n",
      "Epoch: 20 | train_loss: 12.20942, val_loss: 12.40982\n",
      "Epoch: 30 | train_loss: 13.50576, val_loss: 13.15417\n",
      "Epoch: 40 | train_loss: 16.24577, val_loss: 16.31127\n"
     ]
    },
    {
     "name": "stderr",
     "output_type": "stream",
     "text": [
      "\u001b[32m[I 2023-06-18 14:56:43,826]\u001b[0m Trial 15 finished with value: 0.005319148936170213 and parameters: {'analyzer': 'word', 'ngram_max_range': 6, 'learning_rate': 0.09464427098304289, 'power_t': 0.40736459200489356}. Best is trial 11 with value: 0.5992673992673992.\u001b[0m\n"
     ]
    },
    {
     "name": "stdout",
     "output_type": "stream",
     "text": [
      "{\n",
      "  \"precision\": 0.4,\n",
      "  \"recall\": 0.002677376171352075,\n",
      "  \"f1\": 0.005319148936170213\n",
      "}\n",
      "{\n",
      "  \"precision\": 0.4,\n",
      "  \"recall\": 0.002677376171352075,\n",
      "  \"f1\": 0.005319148936170213\n",
      "}\n"
     ]
    },
    {
     "data": {
      "application/vnd.jupyter.widget-view+json": {
       "model_id": "65503436b8bf4c36b8b34667f030cfb9",
       "version_major": 2,
       "version_minor": 0
      },
      "text/plain": [
       "0it [00:00, ?it/s]"
      ]
     },
     "metadata": {},
     "output_type": "display_data"
    },
    {
     "data": {
      "application/vnd.jupyter.widget-view+json": {
       "model_id": "854fd04a1a8449b6a841ac07743beeda",
       "version_major": 2,
       "version_minor": 0
      },
      "text/plain": [
       "  0%|          | 0/50 [00:00<?, ?it/s]"
      ]
     },
     "metadata": {},
     "output_type": "display_data"
    },
    {
     "name": "stdout",
     "output_type": "stream",
     "text": [
      "Epoch: 00 | train_loss: 17.94459, val_loss: 17.94974\n",
      "Epoch: 10 | train_loss: 17.82870, val_loss: 17.82959\n",
      "Epoch: 20 | train_loss: 15.71403, val_loss: 15.67375\n",
      "Epoch: 30 | train_loss: 12.65806, val_loss: 12.81032\n",
      "Epoch: 40 | train_loss: 17.56663, val_loss: 17.43997\n"
     ]
    },
    {
     "name": "stderr",
     "output_type": "stream",
     "text": [
      "\u001b[32m[I 2023-06-18 14:57:59,220]\u001b[0m Trial 16 finished with value: 0.0 and parameters: {'analyzer': 'word', 'ngram_max_range': 3, 'learning_rate': 0.5412364104348623, 'power_t': 0.4162091766041182}. Best is trial 11 with value: 0.5992673992673992.\u001b[0m\n"
     ]
    },
    {
     "name": "stdout",
     "output_type": "stream",
     "text": [
      "{\n",
      "  \"precision\": 0.0,\n",
      "  \"recall\": 0.0,\n",
      "  \"f1\": 0.0\n",
      "}\n",
      "{\n",
      "  \"precision\": 0.0,\n",
      "  \"recall\": 0.0,\n",
      "  \"f1\": 0.0\n",
      "}\n"
     ]
    },
    {
     "data": {
      "application/vnd.jupyter.widget-view+json": {
       "model_id": "8b7c936a9a254f758a990dbb6fb441f1",
       "version_major": 2,
       "version_minor": 0
      },
      "text/plain": [
       "0it [00:00, ?it/s]"
      ]
     },
     "metadata": {},
     "output_type": "display_data"
    },
    {
     "data": {
      "application/vnd.jupyter.widget-view+json": {
       "model_id": "f21979ec0b2e4e239271c3f2fd55d4d7",
       "version_major": 2,
       "version_minor": 0
      },
      "text/plain": [
       "  0%|          | 0/50 [00:00<?, ?it/s]"
      ]
     },
     "metadata": {},
     "output_type": "display_data"
    },
    {
     "name": "stdout",
     "output_type": "stream",
     "text": [
      "Epoch: 00 | train_loss: 17.94459, val_loss: 17.94974\n",
      "Epoch: 10 | train_loss: 17.93102, val_loss: 17.92616\n",
      "Epoch: 20 | train_loss: 17.94459, val_loss: 17.94974\n",
      "Epoch: 30 | train_loss: 14.65377, val_loss: 14.32366\n",
      "Epoch: 40 | train_loss: 11.63718, val_loss: 12.24964\n"
     ]
    },
    {
     "name": "stderr",
     "output_type": "stream",
     "text": [
      "\u001b[32m[I 2023-06-18 14:59:18,949]\u001b[0m Trial 17 finished with value: 0.3017241379310345 and parameters: {'analyzer': 'word', 'ngram_max_range': 10, 'learning_rate': 0.13756852932208657, 'power_t': 0.3720809424219286}. Best is trial 11 with value: 0.5992673992673992.\u001b[0m\n"
     ]
    },
    {
     "name": "stdout",
     "output_type": "stream",
     "text": [
      "{\n",
      "  \"precision\": 0.7734806629834254,\n",
      "  \"recall\": 0.18741633199464525,\n",
      "  \"f1\": 0.3017241379310345\n",
      "}\n",
      "{\n",
      "  \"precision\": 0.7734806629834254,\n",
      "  \"recall\": 0.18741633199464525,\n",
      "  \"f1\": 0.3017241379310345\n",
      "}\n"
     ]
    },
    {
     "data": {
      "application/vnd.jupyter.widget-view+json": {
       "model_id": "570192bb96a2441494872ce2b54c9ccb",
       "version_major": 2,
       "version_minor": 0
      },
      "text/plain": [
       "0it [00:00, ?it/s]"
      ]
     },
     "metadata": {},
     "output_type": "display_data"
    },
    {
     "data": {
      "application/vnd.jupyter.widget-view+json": {
       "model_id": "cdff8384b390402a96f02e0e7f278466",
       "version_major": 2,
       "version_minor": 0
      },
      "text/plain": [
       "  0%|          | 0/50 [00:00<?, ?it/s]"
      ]
     },
     "metadata": {},
     "output_type": "display_data"
    },
    {
     "name": "stdout",
     "output_type": "stream",
     "text": [
      "Epoch: 00 | train_loss: 17.94459, val_loss: 17.94974\n",
      "Epoch: 10 | train_loss: 17.94459, val_loss: 17.94974\n",
      "Epoch: 20 | train_loss: 11.82028, val_loss: 11.96675\n",
      "Epoch: 30 | train_loss: 12.74236, val_loss: 13.02174\n",
      "Epoch: 40 | train_loss: 17.94459, val_loss: 17.94974\n"
     ]
    },
    {
     "name": "stderr",
     "output_type": "stream",
     "text": [
      "\u001b[32m[I 2023-06-18 15:00:34,644]\u001b[0m Trial 18 finished with value: 0.6053584359160029 and parameters: {'analyzer': 'char', 'ngram_max_range': 4, 'learning_rate': 0.34073571363906413, 'power_t': 0.45666361540632616}. Best is trial 18 with value: 0.6053584359160029.\u001b[0m\n"
     ]
    },
    {
     "name": "stdout",
     "output_type": "stream",
     "text": [
      "{\n",
      "  \"precision\": 0.6593059936908517,\n",
      "  \"recall\": 0.5595716198125836,\n",
      "  \"f1\": 0.6053584359160029\n",
      "}\n",
      "{\n",
      "  \"precision\": 0.6593059936908517,\n",
      "  \"recall\": 0.5595716198125836,\n",
      "  \"f1\": 0.6053584359160029\n",
      "}\n"
     ]
    },
    {
     "data": {
      "application/vnd.jupyter.widget-view+json": {
       "model_id": "507335c26ee7485686a86ad861b71bc4",
       "version_major": 2,
       "version_minor": 0
      },
      "text/plain": [
       "0it [00:00, ?it/s]"
      ]
     },
     "metadata": {},
     "output_type": "display_data"
    },
    {
     "data": {
      "application/vnd.jupyter.widget-view+json": {
       "model_id": "326c4722356e43b4bb7010623d610b58",
       "version_major": 2,
       "version_minor": 0
      },
      "text/plain": [
       "  0%|          | 0/50 [00:00<?, ?it/s]"
      ]
     },
     "metadata": {},
     "output_type": "display_data"
    },
    {
     "name": "stdout",
     "output_type": "stream",
     "text": [
      "Epoch: 00 | train_loss: 17.94459, val_loss: 17.94974\n",
      "Epoch: 10 | train_loss: 17.94459, val_loss: 17.94974\n",
      "Epoch: 20 | train_loss: 12.88921, val_loss: 12.78036\n",
      "Epoch: 30 | train_loss: 14.45855, val_loss: 14.32042\n",
      "Epoch: 40 | train_loss: 13.70939, val_loss: 13.57781\n"
     ]
    },
    {
     "name": "stderr",
     "output_type": "stream",
     "text": [
      "\u001b[32m[I 2023-06-18 15:01:51,242]\u001b[0m Trial 19 finished with value: 0.0 and parameters: {'analyzer': 'char', 'ngram_max_range': 4, 'learning_rate': 0.37111223010779426, 'power_t': 0.4973282794124489}. Best is trial 18 with value: 0.6053584359160029.\u001b[0m\n"
     ]
    },
    {
     "name": "stdout",
     "output_type": "stream",
     "text": [
      "{\n",
      "  \"precision\": 0.0,\n",
      "  \"recall\": 0.0,\n",
      "  \"f1\": 0.0\n",
      "}\n",
      "{\n",
      "  \"precision\": 0.0,\n",
      "  \"recall\": 0.0,\n",
      "  \"f1\": 0.0\n",
      "}\n"
     ]
    }
   ],
   "source": [
    "NUM_TRIALS = 20  # small sample for now\n",
    "\n",
    "# Optimize\n",
    "pruner = optuna.pruners.MedianPruner(n_startup_trials=5, n_warmup_steps=5)\n",
    "study = optuna.create_study(study_name=\"optimization\", direction=\"maximize\", pruner=pruner)\n",
    "mlflow_callback = MLflowCallback(tracking_uri=mlflow.get_tracking_uri(), metric_name=\"f1\")\n",
    "study.optimize(lambda trial: objective(args, trial),n_trials=NUM_TRIALS,callbacks=[mlflow_callback])"
   ]
  },
  {
   "cell_type": "code",
   "execution_count": 23,
   "id": "16b0a07f",
   "metadata": {},
   "outputs": [
    {
     "data": {
      "text/html": [
       "<div>\n",
       "<style scoped>\n",
       "    .dataframe tbody tr th:only-of-type {\n",
       "        vertical-align: middle;\n",
       "    }\n",
       "\n",
       "    .dataframe tbody tr th {\n",
       "        vertical-align: top;\n",
       "    }\n",
       "\n",
       "    .dataframe thead th {\n",
       "        text-align: right;\n",
       "    }\n",
       "</style>\n",
       "<table border=\"1\" class=\"dataframe\">\n",
       "  <thead>\n",
       "    <tr style=\"text-align: right;\">\n",
       "      <th></th>\n",
       "      <th>number</th>\n",
       "      <th>value</th>\n",
       "      <th>datetime_start</th>\n",
       "      <th>datetime_complete</th>\n",
       "      <th>duration</th>\n",
       "      <th>params_analyzer</th>\n",
       "      <th>params_learning_rate</th>\n",
       "      <th>params_ngram_max_range</th>\n",
       "      <th>params_power_t</th>\n",
       "      <th>user_attrs_f1</th>\n",
       "      <th>user_attrs_precision</th>\n",
       "      <th>user_attrs_recall</th>\n",
       "      <th>state</th>\n",
       "    </tr>\n",
       "  </thead>\n",
       "  <tbody>\n",
       "    <tr>\n",
       "      <th>18</th>\n",
       "      <td>18</td>\n",
       "      <td>0.605358</td>\n",
       "      <td>2023-06-18 14:59:19.122475</td>\n",
       "      <td>2023-06-18 15:00:34.644248</td>\n",
       "      <td>0 days 00:01:15.521773</td>\n",
       "      <td>char</td>\n",
       "      <td>0.340736</td>\n",
       "      <td>4</td>\n",
       "      <td>0.456664</td>\n",
       "      <td>0.605358</td>\n",
       "      <td>0.659306</td>\n",
       "      <td>0.559572</td>\n",
       "      <td>COMPLETE</td>\n",
       "    </tr>\n",
       "    <tr>\n",
       "      <th>11</th>\n",
       "      <td>11</td>\n",
       "      <td>0.599267</td>\n",
       "      <td>2023-06-18 14:50:15.703302</td>\n",
       "      <td>2023-06-18 14:51:31.864945</td>\n",
       "      <td>0 days 00:01:16.161643</td>\n",
       "      <td>char</td>\n",
       "      <td>0.471002</td>\n",
       "      <td>6</td>\n",
       "      <td>0.493081</td>\n",
       "      <td>0.599267</td>\n",
       "      <td>0.661812</td>\n",
       "      <td>0.547523</td>\n",
       "      <td>COMPLETE</td>\n",
       "    </tr>\n",
       "    <tr>\n",
       "      <th>14</th>\n",
       "      <td>14</td>\n",
       "      <td>0.582960</td>\n",
       "      <td>2023-06-18 14:54:10.576382</td>\n",
       "      <td>2023-06-18 14:55:28.054649</td>\n",
       "      <td>0 days 00:01:17.478267</td>\n",
       "      <td>word</td>\n",
       "      <td>0.132748</td>\n",
       "      <td>6</td>\n",
       "      <td>0.384866</td>\n",
       "      <td>0.582960</td>\n",
       "      <td>0.659898</td>\n",
       "      <td>0.522088</td>\n",
       "      <td>COMPLETE</td>\n",
       "    </tr>\n",
       "    <tr>\n",
       "      <th>1</th>\n",
       "      <td>1</td>\n",
       "      <td>0.575153</td>\n",
       "      <td>2023-06-18 14:37:09.401631</td>\n",
       "      <td>2023-06-18 14:38:28.879261</td>\n",
       "      <td>0 days 00:01:19.477630</td>\n",
       "      <td>char_wb</td>\n",
       "      <td>0.218223</td>\n",
       "      <td>6</td>\n",
       "      <td>0.193177</td>\n",
       "      <td>0.575153</td>\n",
       "      <td>0.673250</td>\n",
       "      <td>0.502008</td>\n",
       "      <td>COMPLETE</td>\n",
       "    </tr>\n",
       "    <tr>\n",
       "      <th>12</th>\n",
       "      <td>12</td>\n",
       "      <td>0.542994</td>\n",
       "      <td>2023-06-18 14:51:32.039331</td>\n",
       "      <td>2023-06-18 14:52:49.374642</td>\n",
       "      <td>0 days 00:01:17.335311</td>\n",
       "      <td>char_wb</td>\n",
       "      <td>0.545402</td>\n",
       "      <td>5</td>\n",
       "      <td>0.481816</td>\n",
       "      <td>0.542994</td>\n",
       "      <td>0.669941</td>\n",
       "      <td>0.456493</td>\n",
       "      <td>COMPLETE</td>\n",
       "    </tr>\n",
       "  </tbody>\n",
       "</table>\n",
       "</div>"
      ],
      "text/plain": [
       "    number     value             datetime_start          datetime_complete  \\\n",
       "18      18  0.605358 2023-06-18 14:59:19.122475 2023-06-18 15:00:34.644248   \n",
       "11      11  0.599267 2023-06-18 14:50:15.703302 2023-06-18 14:51:31.864945   \n",
       "14      14  0.582960 2023-06-18 14:54:10.576382 2023-06-18 14:55:28.054649   \n",
       "1        1  0.575153 2023-06-18 14:37:09.401631 2023-06-18 14:38:28.879261   \n",
       "12      12  0.542994 2023-06-18 14:51:32.039331 2023-06-18 14:52:49.374642   \n",
       "\n",
       "                 duration params_analyzer  params_learning_rate  \\\n",
       "18 0 days 00:01:15.521773            char              0.340736   \n",
       "11 0 days 00:01:16.161643            char              0.471002   \n",
       "14 0 days 00:01:17.478267            word              0.132748   \n",
       "1  0 days 00:01:19.477630         char_wb              0.218223   \n",
       "12 0 days 00:01:17.335311         char_wb              0.545402   \n",
       "\n",
       "    params_ngram_max_range  params_power_t  user_attrs_f1  \\\n",
       "18                       4        0.456664       0.605358   \n",
       "11                       6        0.493081       0.599267   \n",
       "14                       6        0.384866       0.582960   \n",
       "1                        6        0.193177       0.575153   \n",
       "12                       5        0.481816       0.542994   \n",
       "\n",
       "    user_attrs_precision  user_attrs_recall     state  \n",
       "18              0.659306           0.559572  COMPLETE  \n",
       "11              0.661812           0.547523  COMPLETE  \n",
       "14              0.659898           0.522088  COMPLETE  \n",
       "1               0.673250           0.502008  COMPLETE  \n",
       "12              0.669941           0.456493  COMPLETE  "
      ]
     },
     "execution_count": 23,
     "metadata": {},
     "output_type": "execute_result"
    }
   ],
   "source": [
    "# All trials\n",
    "trials_df = study.trials_dataframe()\n",
    "trials_df = trials_df.sort_values([\"user_attrs_f1\"], ascending=False)  # sort by metric\n",
    "trials_df.head()"
   ]
  },
  {
   "cell_type": "code",
   "execution_count": 24,
   "id": "17587a32",
   "metadata": {},
   "outputs": [
    {
     "name": "stdout",
     "output_type": "stream",
     "text": [
      "Best value (f1): 0.6053584359160029\n",
      "Best hyperparameters: {\n",
      "  \"analyzer\": \"char\",\n",
      "  \"ngram_max_range\": 4,\n",
      "  \"learning_rate\": 0.34073571363906413,\n",
      "  \"power_t\": 0.45666361540632616\n",
      "}\n"
     ]
    }
   ],
   "source": [
    "# Best trial\n",
    "print (f\"Best value (f1): {study.best_trial.value}\")\n",
    "print (f\"Best hyperparameters: {json.dumps(study.best_trial.params, indent=2)}\")"
   ]
  },
  {
   "cell_type": "code",
   "execution_count": 25,
   "id": "aa5dcea0",
   "metadata": {},
   "outputs": [
    {
     "name": "stdout",
     "output_type": "stream",
     "text": [
      "{\n",
      "  \"lower\": true,\n",
      "  \"stem\": false,\n",
      "  \"analyzer\": \"char\",\n",
      "  \"ngram_max_range\": 4,\n",
      "  \"alpha\": 0.0001,\n",
      "  \"learning_rate\": 0.34073571363906413,\n",
      "  \"power_t\": 0.45666361540632616,\n",
      "  \"num_epochs\": 50,\n",
      "  \"max_features\": \"log2\",\n",
      "  \"min_samples_split\": 3,\n",
      "  \"n_estimators\": 264,\n",
      "  \"threshold\": 1.0\n",
      "}\n"
     ]
    }
   ],
   "source": [
    "# Save best parameter values\n",
    "args = {**args.__dict__, **study.best_trial.params}\n",
    "print (json.dumps(args, indent=2, cls=NumpyEncoder))"
   ]
  },
  {
   "cell_type": "markdown",
   "id": "c9880294",
   "metadata": {},
   "source": [
    "## Observation\n",
    "\n",
    "1. Linear Model is has low accuray than baselines therefore we are not using it.\n",
    "2. Random forrest algorithm gives better accuracy ."
   ]
  },
  {
   "cell_type": "code",
   "execution_count": null,
   "id": "a698c6a8",
   "metadata": {},
   "outputs": [],
   "source": []
  }
 ],
 "metadata": {
  "kernelspec": {
   "display_name": "Python 3 (ipykernel)",
   "language": "python",
   "name": "python3"
  },
  "language_info": {
   "codemirror_mode": {
    "name": "ipython",
    "version": 3
   },
   "file_extension": ".py",
   "mimetype": "text/x-python",
   "name": "python",
   "nbconvert_exporter": "python",
   "pygments_lexer": "ipython3",
   "version": "3.10.9"
  }
 },
 "nbformat": 4,
 "nbformat_minor": 5
}
