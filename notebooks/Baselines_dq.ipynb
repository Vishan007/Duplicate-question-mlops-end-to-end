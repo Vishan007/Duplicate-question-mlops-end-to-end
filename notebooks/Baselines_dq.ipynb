{
 "cells": [
  {
   "cell_type": "code",
   "execution_count": 1,
   "metadata": {
    "colab": {
     "base_uri": "https://localhost:8080/"
    },
    "id": "tFcYsJ2AlnKg",
    "outputId": "36f6e8ec-86c4-4548-c306-b9c5bad9788e"
   },
   "outputs": [
    {
     "name": "stdout",
     "output_type": "stream",
     "text": [
      "Installing collected packages: pyahocorasick, anyascii, textsearch, contractions\n",
      "Successfully installed anyascii-0.3.2 contractions-0.1.73 pyahocorasick-2.0.0 textsearch-0.0.24\n"
     ]
    }
   ],
   "source": [
    "!pip install contractions"
   ]
  },
  {
   "cell_type": "code",
   "execution_count": 2,
   "metadata": {
    "id": "z6mlJHIMmON4"
   },
   "outputs": [],
   "source": [
    "##nlp dependencies\n",
    "import nltk\n",
    "from nltk.corpus import stopwords\n",
    "from nltk.stem import PorterStemmer"
   ]
  },
  {
   "cell_type": "code",
   "execution_count": 3,
   "metadata": {
    "id": "5gv2tJbp3HD9"
   },
   "outputs": [],
   "source": [
    "#viz\n",
    "import matplotlib.pyplot as plt\n",
    "import seaborn as sns"
   ]
  },
  {
   "cell_type": "code",
   "execution_count": 13,
   "metadata": {
    "id": "PnRFcbIwkpSp"
   },
   "outputs": [],
   "source": [
    "import re\n",
    "import contractions\n",
    "import warnings\n",
    "import pandas as pd\n",
    "warnings.filterwarnings('ignore')"
   ]
  },
  {
   "cell_type": "code",
   "execution_count": 5,
   "metadata": {
    "colab": {
     "base_uri": "https://localhost:8080/"
    },
    "id": "Ei8AhgbLmZ_M",
    "outputId": "6840a233-73f2-4eb2-c27b-40be98f04d5f"
   },
   "outputs": [
    {
     "name": "stderr",
     "output_type": "stream",
     "text": [
      "[nltk_data] Downloading package stopwords to /root/nltk_data...\n",
      "[nltk_data]   Unzipping corpora/stopwords.zip.\n"
     ]
    }
   ],
   "source": [
    "nltk.download(\"stopwords\")\n",
    "STOPWORDS = stopwords.words(\"english\")\n",
    "stemmer = PorterStemmer()"
   ]
  },
  {
   "cell_type": "code",
   "execution_count": 6,
   "metadata": {
    "id": "v8h532AlqQPl"
   },
   "outputs": [],
   "source": [
    "from sklearn.model_selection import train_test_split"
   ]
  },
  {
   "cell_type": "code",
   "execution_count": 7,
   "metadata": {
    "id": "D32sFiMmk_eE"
   },
   "outputs": [],
   "source": [
    "def clean_text(q,stem=False,stopwords=None):\n",
    "  q = str(q).lower().strip()\n",
    "  q = contractions.fix(q) ## correcting the contractions\n",
    "  q = re.sub(r\"https?://\\S+|www\\.\\S+\", \"\", q) ## remove the urls from string\n",
    "  html = re.compile(r\"<.*?>|&([a-z0-9]+|#[0-9]{1,6}|#x[0-9a-f]{1,6});\")  ##removing the html tags\n",
    "  q = re.sub(html, \"\", q)\n",
    "  #replace certain special characters\n",
    "  q = q.replace('%', ' percent')\n",
    "  q = q.replace('$', ' dollar')\n",
    "  q = q.replace('₹', ' rupee ')\n",
    "  q = q.replace('@', ' at')\n",
    "  q = q.replace('€', ' euro')\n",
    "  q = q.replace('[math]','')\n",
    "  q = re.sub(r'[]!\"$%&\\'()*+,./:;=#@?[\\\\^_`{|}~-]+', \"\", q) ##puntuation\n",
    "  if stem:\n",
    "    q = \" \".join([stemmer.stem(word) for word in q.split(\" \")])\n",
    "\n",
    "  if stopwords:\n",
    "    q = \" \".join([w for w in q.split(\" \") if w not in stopwords])\n",
    "  return q"
   ]
  },
  {
   "cell_type": "code",
   "execution_count": 8,
   "metadata": {
    "id": "7wEjLF5-uSMA"
   },
   "outputs": [],
   "source": [
    "df=pd.read_csv('/content/sample_adv_features.csv',nrows=10000)\n",
    "df =df.drop(['Unnamed: 0.1','Unnamed: 0','qid1','qid2'],axis=1)"
   ]
  },
  {
   "cell_type": "code",
   "execution_count": 9,
   "metadata": {
    "colab": {
     "base_uri": "https://localhost:8080/"
    },
    "id": "ZDmFvEkQwTWF",
    "outputId": "ed66ceaf-82aa-45f4-b67a-67aa72cc8801"
   },
   "outputs": [
    {
     "name": "stdout",
     "output_type": "stream",
     "text": [
      "<class 'pandas.core.frame.DataFrame'>\n",
      "RangeIndex: 10000 entries, 0 to 9999\n",
      "Data columns (total 26 columns):\n",
      " #   Column                Non-Null Count  Dtype  \n",
      "---  ------                --------------  -----  \n",
      " 0   id                    10000 non-null  int64  \n",
      " 1   question1             10000 non-null  object \n",
      " 2   question2             9999 non-null   object \n",
      " 3   is_duplicate          10000 non-null  int64  \n",
      " 4   q1_len                10000 non-null  int64  \n",
      " 5   q2_len                10000 non-null  int64  \n",
      " 6   q1_num_words          10000 non-null  int64  \n",
      " 7   q2_num_words          10000 non-null  int64  \n",
      " 8   num_common_words      10000 non-null  int64  \n",
      " 9   num_total_words       10000 non-null  int64  \n",
      " 10  word_share            10000 non-null  float64\n",
      " 11  cwc_min               10000 non-null  float64\n",
      " 12  cwc_max               10000 non-null  float64\n",
      " 13  csc_min               10000 non-null  float64\n",
      " 14  csc_max               10000 non-null  float64\n",
      " 15  ctc_min               10000 non-null  float64\n",
      " 16  ctc_max               10000 non-null  float64\n",
      " 17  first_word_similar    10000 non-null  float64\n",
      " 18  last_word_similar     10000 non-null  float64\n",
      " 19  abs_len_diff          10000 non-null  float64\n",
      " 20  mean_len              10000 non-null  float64\n",
      " 21  longest_substr_ratio  10000 non-null  float64\n",
      " 22  qratio                10000 non-null  int64  \n",
      " 23  partial_ratio         10000 non-null  int64  \n",
      " 24  sort_ratio            10000 non-null  int64  \n",
      " 25  set_ratio             10000 non-null  int64  \n",
      "dtypes: float64(12), int64(12), object(2)\n",
      "memory usage: 2.0+ MB\n"
     ]
    }
   ],
   "source": [
    "df.info()"
   ]
  },
  {
   "cell_type": "code",
   "execution_count": 8,
   "metadata": {
    "id": "zr_5DruJuFbM"
   },
   "outputs": [],
   "source": [
    "def preprocess(df, stem=False,stopwords=None):\n",
    "  df.question1 = df.question1.apply(clean_text)\n",
    "  df.question2 = df.question2.apply(clean_text)\n",
    "  return df"
   ]
  },
  {
   "cell_type": "code",
   "execution_count": 9,
   "metadata": {
    "id": "T9RJVRGyoyBG"
   },
   "outputs": [],
   "source": [
    "def get_data_splits(X, y, train_size=0.7):\n",
    "    \"\"\"Generate balanced data splits.\"\"\"\n",
    "    X_train, X_, y_train, y_ = train_test_split(\n",
    "        X, y, train_size=train_size, stratify=y)\n",
    "    X_val, X_test, y_val, y_test = train_test_split(\n",
    "        X_, y_, train_size=0.5, stratify=y_)\n",
    "    return X_train, X_val, X_test, y_train, y_val, y_test"
   ]
  },
  {
   "cell_type": "markdown",
   "metadata": {
    "id": "ns60r1vWtUEU"
   },
   "source": [
    "## Base lines\n",
    "1. Random\n",
    "2. Rule Based\n",
    "3. Simple ML model"
   ]
  },
  {
   "cell_type": "markdown",
   "metadata": {
    "id": "KwayD2611OYg"
   },
   "source": [
    "**Random Prediction**\n",
    "\n",
    "motivation: We want to know what random (chance) performance looks like. All of our efforts should be well above this baseline."
   ]
  },
  {
   "cell_type": "code",
   "execution_count": 10,
   "metadata": {
    "id": "wZkNvVP7tS5J"
   },
   "outputs": [],
   "source": [
    "import random\n",
    "import numpy as np\n",
    "def set_seeds(seed=42):\n",
    "    \"\"\"Set seeds for reproducibility.\"\"\"\n",
    "    np.random.seed(seed)\n",
    "    random.seed(seed)"
   ]
  },
  {
   "cell_type": "code",
   "execution_count": 11,
   "metadata": {
    "id": "Z8niXNqltSKY"
   },
   "outputs": [],
   "source": [
    "from sklearn.metrics import precision_recall_fscore_support,accuracy_score"
   ]
  },
  {
   "cell_type": "code",
   "execution_count": 14,
   "metadata": {
    "id": "XKK8LOEhxCCX"
   },
   "outputs": [],
   "source": [
    "df=pd.read_csv('/content/sample_adv_features.csv',nrows=10000)\n",
    "df =df.drop(['Unnamed: 0.1','Unnamed: 0','qid1','qid2'],axis=1)\n",
    "df = preprocess(df)\n",
    "X= df.drop('is_duplicate' ,axis=1)\n",
    "y = df.is_duplicate\n",
    "X_train, X_val, X_test, y_train, y_val, y_test = get_data_splits(X,y)"
   ]
  },
  {
   "cell_type": "code",
   "execution_count": 15,
   "metadata": {
    "colab": {
     "base_uri": "https://localhost:8080/"
    },
    "id": "WI9kBc9rylFA",
    "outputId": "a8363298-6f92-4d63-d2c1-a147a17f03f5"
   },
   "outputs": [
    {
     "name": "stdout",
     "output_type": "stream",
     "text": [
      "(1500,)\n",
      "[0 0 0 0 0]\n"
     ]
    }
   ],
   "source": [
    "# Generate random predictions\n",
    "y_pred = np.random.randint(low=0, high=1, size=len(y_test))\n",
    "print (y_pred.shape)\n",
    "print (y_pred[0:5])"
   ]
  },
  {
   "cell_type": "code",
   "execution_count": 16,
   "metadata": {
    "colab": {
     "base_uri": "https://localhost:8080/"
    },
    "id": "ZQ-Op5SPzJMA",
    "outputId": "d040536a-9fd0-4846-80c5-a14065407203"
   },
   "outputs": [
    {
     "name": "stdout",
     "output_type": "stream",
     "text": [
      "{\n",
      "  \"precision\": 0.252004,\n",
      "  \"recall\": 0.502,\n",
      "  \"f1\": 0.33555792276964047\n",
      "}\n"
     ]
    }
   ],
   "source": [
    "# Evaluate\n",
    "import json\n",
    "metrics = precision_recall_fscore_support(y_test, y_pred, average=\"weighted\")\n",
    "performance = {\"precision\": metrics[0], \"recall\": metrics[1], \"f1\": metrics[2]}\n",
    "print (json.dumps(performance, indent=2))"
   ]
  },
  {
   "cell_type": "code",
   "execution_count": 17,
   "metadata": {
    "colab": {
     "base_uri": "https://localhost:8080/"
    },
    "id": "DJmqDJ4wz0mR",
    "outputId": "c46bc121-aa10-4aec-deca-455baa82b442"
   },
   "outputs": [
    {
     "data": {
      "text/plain": [
       "[0.502, 0.498]"
      ]
     },
     "execution_count": 17,
     "metadata": {},
     "output_type": "execute_result"
    }
   ],
   "source": [
    "from collections import Counter\n",
    "# Class frequencies\n",
    "p = [Counter(y_test)[index]/len(y_test) for index in range(2)]\n",
    "p  #probability of each class if we predict randomly"
   ]
  },
  {
   "cell_type": "code",
   "execution_count": 18,
   "metadata": {
    "id": "v1WG1wqe0VKG"
   },
   "outputs": [],
   "source": [
    "# Generate weighted random predictions\n",
    "y_pred = np.random.choice(a=range(2), size=len(y_test), p=p)"
   ]
  },
  {
   "cell_type": "code",
   "execution_count": 19,
   "metadata": {
    "colab": {
     "base_uri": "https://localhost:8080/"
    },
    "id": "nMdyCZEZ0qjU",
    "outputId": "409a2f5d-b6ef-4617-8462-e2f312c0eeb2"
   },
   "outputs": [
    {
     "name": "stdout",
     "output_type": "stream",
     "text": [
      "{\n",
      "  \"precision\": 0.5066463719306731,\n",
      "  \"recall\": 0.5066666666666667,\n",
      "  \"f1\": 0.5066421074902525\n",
      "}\n"
     ]
    }
   ],
   "source": [
    "# Evaluate\n",
    "metrics = precision_recall_fscore_support(y_test, y_pred, average=\"weighted\")\n",
    "performance = {\"precision\": metrics[0], \"recall\": metrics[1], \"f1\": metrics[2]}\n",
    "print (json.dumps(performance, indent=2))"
   ]
  },
  {
   "cell_type": "markdown",
   "metadata": {
    "id": "g-htNZdaOnWr"
   },
   "source": [
    "limitations: we didn't use the tokens in our input to affect our predictions so nothing was learned."
   ]
  },
  {
   "cell_type": "markdown",
   "metadata": {
    "id": "HTMY8Lz52Hcc"
   },
   "source": [
    "**Rule Based predictions**\n",
    "\n",
    "motivation: we want to use signals in our inputs (along with domain expertise and auxiliary data) to determine the labels."
   ]
  },
  {
   "cell_type": "code",
   "execution_count": 20,
   "metadata": {
    "colab": {
     "base_uri": "https://localhost:8080/",
     "height": 143
    },
    "id": "tAfss7bn192j",
    "outputId": "bfab1335-cb67-422e-8353-74d8837d4f0b"
   },
   "outputs": [
    {
     "data": {
      "text/html": [
       "\n",
       "  <div id=\"df-44777800-c31e-4b93-b38c-4d5b387cb592\">\n",
       "    <div class=\"colab-df-container\">\n",
       "      <div>\n",
       "<style scoped>\n",
       "    .dataframe tbody tr th:only-of-type {\n",
       "        vertical-align: middle;\n",
       "    }\n",
       "\n",
       "    .dataframe tbody tr th {\n",
       "        vertical-align: top;\n",
       "    }\n",
       "\n",
       "    .dataframe thead th {\n",
       "        text-align: right;\n",
       "    }\n",
       "</style>\n",
       "<table border=\"1\" class=\"dataframe\">\n",
       "  <thead>\n",
       "    <tr style=\"text-align: right;\">\n",
       "      <th></th>\n",
       "      <th>word_share</th>\n",
       "    </tr>\n",
       "    <tr>\n",
       "      <th>is_duplicate</th>\n",
       "      <th></th>\n",
       "    </tr>\n",
       "  </thead>\n",
       "  <tbody>\n",
       "    <tr>\n",
       "      <th>0</th>\n",
       "      <td>0.208022</td>\n",
       "    </tr>\n",
       "    <tr>\n",
       "      <th>1</th>\n",
       "      <td>0.305389</td>\n",
       "    </tr>\n",
       "  </tbody>\n",
       "</table>\n",
       "</div>\n",
       "      <button class=\"colab-df-convert\" onclick=\"convertToInteractive('df-44777800-c31e-4b93-b38c-4d5b387cb592')\"\n",
       "              title=\"Convert this dataframe to an interactive table.\"\n",
       "              style=\"display:none;\">\n",
       "        \n",
       "  <svg xmlns=\"http://www.w3.org/2000/svg\" height=\"24px\"viewBox=\"0 0 24 24\"\n",
       "       width=\"24px\">\n",
       "    <path d=\"M0 0h24v24H0V0z\" fill=\"none\"/>\n",
       "    <path d=\"M18.56 5.44l.94 2.06.94-2.06 2.06-.94-2.06-.94-.94-2.06-.94 2.06-2.06.94zm-11 1L8.5 8.5l.94-2.06 2.06-.94-2.06-.94L8.5 2.5l-.94 2.06-2.06.94zm10 10l.94 2.06.94-2.06 2.06-.94-2.06-.94-.94-2.06-.94 2.06-2.06.94z\"/><path d=\"M17.41 7.96l-1.37-1.37c-.4-.4-.92-.59-1.43-.59-.52 0-1.04.2-1.43.59L10.3 9.45l-7.72 7.72c-.78.78-.78 2.05 0 2.83L4 21.41c.39.39.9.59 1.41.59.51 0 1.02-.2 1.41-.59l7.78-7.78 2.81-2.81c.8-.78.8-2.07 0-2.86zM5.41 20L4 18.59l7.72-7.72 1.47 1.35L5.41 20z\"/>\n",
       "  </svg>\n",
       "      </button>\n",
       "      \n",
       "  <style>\n",
       "    .colab-df-container {\n",
       "      display:flex;\n",
       "      flex-wrap:wrap;\n",
       "      gap: 12px;\n",
       "    }\n",
       "\n",
       "    .colab-df-convert {\n",
       "      background-color: #E8F0FE;\n",
       "      border: none;\n",
       "      border-radius: 50%;\n",
       "      cursor: pointer;\n",
       "      display: none;\n",
       "      fill: #1967D2;\n",
       "      height: 32px;\n",
       "      padding: 0 0 0 0;\n",
       "      width: 32px;\n",
       "    }\n",
       "\n",
       "    .colab-df-convert:hover {\n",
       "      background-color: #E2EBFA;\n",
       "      box-shadow: 0px 1px 2px rgba(60, 64, 67, 0.3), 0px 1px 3px 1px rgba(60, 64, 67, 0.15);\n",
       "      fill: #174EA6;\n",
       "    }\n",
       "\n",
       "    [theme=dark] .colab-df-convert {\n",
       "      background-color: #3B4455;\n",
       "      fill: #D2E3FC;\n",
       "    }\n",
       "\n",
       "    [theme=dark] .colab-df-convert:hover {\n",
       "      background-color: #434B5C;\n",
       "      box-shadow: 0px 1px 3px 1px rgba(0, 0, 0, 0.15);\n",
       "      filter: drop-shadow(0px 1px 2px rgba(0, 0, 0, 0.3));\n",
       "      fill: #FFFFFF;\n",
       "    }\n",
       "  </style>\n",
       "\n",
       "      <script>\n",
       "        const buttonEl =\n",
       "          document.querySelector('#df-44777800-c31e-4b93-b38c-4d5b387cb592 button.colab-df-convert');\n",
       "        buttonEl.style.display =\n",
       "          google.colab.kernel.accessAllowed ? 'block' : 'none';\n",
       "\n",
       "        async function convertToInteractive(key) {\n",
       "          const element = document.querySelector('#df-44777800-c31e-4b93-b38c-4d5b387cb592');\n",
       "          const dataTable =\n",
       "            await google.colab.kernel.invokeFunction('convertToInteractive',\n",
       "                                                     [key], {});\n",
       "          if (!dataTable) return;\n",
       "\n",
       "          const docLinkHtml = 'Like what you see? Visit the ' +\n",
       "            '<a target=\"_blank\" href=https://colab.research.google.com/notebooks/data_table.ipynb>data table notebook</a>'\n",
       "            + ' to learn more about interactive tables.';\n",
       "          element.innerHTML = '';\n",
       "          dataTable['output_type'] = 'display_data';\n",
       "          await google.colab.output.renderOutput(dataTable, element);\n",
       "          const docLink = document.createElement('div');\n",
       "          docLink.innerHTML = docLinkHtml;\n",
       "          element.appendChild(docLink);\n",
       "        }\n",
       "      </script>\n",
       "    </div>\n",
       "  </div>\n",
       "  "
      ],
      "text/plain": [
       "              word_share\n",
       "is_duplicate            \n",
       "0               0.208022\n",
       "1               0.305389"
      ]
     },
     "execution_count": 20,
     "metadata": {},
     "output_type": "execute_result"
    }
   ],
   "source": [
    "df[['word_share','is_duplicate']].groupby(by='is_duplicate').mean()"
   ]
  },
  {
   "cell_type": "code",
   "execution_count": 21,
   "metadata": {
    "id": "pgVdZzx80wdC"
   },
   "outputs": [],
   "source": [
    "def get_class(q1,q2):\n",
    "  is_duplicate = 0\n",
    "  q1_words = set(q1.split(' '))\n",
    "  q2_words = set(q2.split(' '))\n",
    "  total_words = len(set(str(q1+q2).split(' ')))\n",
    "  com_words = len(q1_words.intersection(q2_words))\n",
    "  word_share_percent = com_words/total_words\n",
    "  if word_share_percent > 0.35:    #domain knwoledge if word share percent is more than 35 it is more likely the question is duplicate\n",
    "     is_duplicate = 1\n",
    "  return is_duplicate"
   ]
  },
  {
   "cell_type": "code",
   "execution_count": 22,
   "metadata": {
    "colab": {
     "base_uri": "https://localhost:8080/"
    },
    "id": "Wtq4W-ueI6ZT",
    "outputId": "e98ca3ce-3c6a-449a-f730-599c4363398c"
   },
   "outputs": [
    {
     "data": {
      "text/plain": [
       "1"
      ]
     },
     "execution_count": 22,
     "metadata": {},
     "output_type": "execute_result"
    }
   ],
   "source": [
    "q1='what are the best pics clicked on a phone'\n",
    "q2 = 'what are some of the best photos taken from a cell phone'\n",
    "get_class(q1,q2)"
   ]
  },
  {
   "cell_type": "code",
   "execution_count": 23,
   "metadata": {
    "id": "asMH_6tkMJcV"
   },
   "outputs": [],
   "source": [
    "y_pred = []\n",
    "for q1 , q2 in zip(X_test.question1.to_list(),X_test.question2.to_list()):\n",
    "  _class = get_class(q1,q2)\n",
    "  y_pred.append(_class)"
   ]
  },
  {
   "cell_type": "code",
   "execution_count": 24,
   "metadata": {
    "colab": {
     "base_uri": "https://localhost:8080/"
    },
    "id": "rQymH6IJMJsM",
    "outputId": "93d2ef24-f461-4e88-da0a-f47bc31137dd"
   },
   "outputs": [
    {
     "name": "stdout",
     "output_type": "stream",
     "text": [
      "{\n",
      "  \"precision\": 0.6621615384615385,\n",
      "  \"recall\": 0.662,\n",
      "  \"f1\": 0.6618660871861981\n",
      "}\n"
     ]
    }
   ],
   "source": [
    "# Evaluate\n",
    "metrics = precision_recall_fscore_support(y_test, y_pred, average=\"weighted\")\n",
    "performance = {\"precision\": metrics[0], \"recall\": metrics[1], \"f1\": metrics[2]}\n",
    "print (json.dumps(performance, indent=2))"
   ]
  },
  {
   "cell_type": "markdown",
   "metadata": {
    "id": "gHWa9xVFOgFa"
   },
   "source": [
    "limitations: we failed to generalize or learn any implicit patterns to predict the labels because we treat the tokens in our input as isolated entities."
   ]
  },
  {
   "cell_type": "markdown",
   "metadata": {
    "id": "KAGzWwiEPbHJ"
   },
   "source": [
    "Vectorization\n",
    "\n",
    "representation: use term frequency-inverse document frequency (TF-IDF) to capture the significance of a token to a particular input with respect to all the inputs, as opposed to treating the words in our input text as isolated tokens.\n",
    "\n",
    "architecture: we want our model to meaningfully extract the encoded signal to predict the output labels."
   ]
  },
  {
   "cell_type": "code",
   "execution_count": 25,
   "metadata": {
    "id": "4BKrlw6-iZ2d"
   },
   "outputs": [],
   "source": [
    "df=pd.read_csv('/content/sample_adv_features.csv',nrows=10000)\n",
    "df =df.drop(['Unnamed: 0.1','Unnamed: 0','qid1','qid2'],axis=1)\n",
    "df = preprocess(df,stem=True,stopwords=STOPWORDS)\n",
    "X= df.drop('is_duplicate' ,axis=1)\n",
    "y = df.is_duplicate"
   ]
  },
  {
   "cell_type": "code",
   "execution_count": 26,
   "metadata": {
    "id": "NNkuqW3SczrS"
   },
   "outputs": [],
   "source": [
    "X_train, X_val, X_test, y_train, y_val, y_test = get_data_splits(X,y)"
   ]
  },
  {
   "cell_type": "code",
   "execution_count": 27,
   "metadata": {
    "id": "9iRt-nX4N_Ic"
   },
   "outputs": [],
   "source": [
    "from sklearn.feature_extraction.text import TfidfVectorizer\n",
    "MAX_FEATURE = 3000\n",
    "vectorizer = TfidfVectorizer()"
   ]
  },
  {
   "cell_type": "code",
   "execution_count": 28,
   "metadata": {
    "id": "ZEbn1pjDjIGT"
   },
   "outputs": [],
   "source": [
    "vectorizer = TfidfVectorizer(max_features=MAX_FEATURE)\n",
    "train_que = list(X_train.question1) + list(X_train.question2)\n",
    "tr_q1_arr,tr_q2_arr=np.vsplit(vectorizer.fit_transform(train_que).toarray(),2)\n",
    "tr_qdf1 = pd.DataFrame(tr_q1_arr,index=X_train.index)\n",
    "tr_qdf2 = pd.DataFrame(tr_q2_arr,index=X_train.index)\n",
    "train_qdf = pd.concat([tr_qdf1,tr_qdf2],axis=1)\n",
    "cols = ['col' + str(i) for i in range(0,train_qdf.shape[1])]\n",
    "train_qdf.columns = cols\n",
    "X_train = pd.concat([train_qdf,X_train],axis=1)"
   ]
  },
  {
   "cell_type": "code",
   "execution_count": 29,
   "metadata": {
    "id": "hFW4ae9Y_N-h"
   },
   "outputs": [],
   "source": [
    "val_que = list(X_val.question1) + list(X_val.question2)\n",
    "val_q1_arr,val_q2_arr=np.vsplit(vectorizer.transform(val_que).toarray(),2)\n",
    "val_qdf1 = pd.DataFrame(val_q1_arr,index=X_val.index)\n",
    "val_qdf2 = pd.DataFrame(val_q2_arr,index=X_val.index)\n",
    "val_qdf = pd.concat([val_qdf1,val_qdf2],axis=1)\n",
    "cols = ['col' + str(i) for i in range(0,val_qdf.shape[1])]\n",
    "val_qdf.columns = cols\n",
    "X_val = pd.concat([val_qdf,X_val],axis=1)"
   ]
  },
  {
   "cell_type": "code",
   "execution_count": 30,
   "metadata": {
    "id": "_uYdyFLmFwj0"
   },
   "outputs": [],
   "source": [
    "test_que = list(X_test.question1) + list(X_test.question2)\n",
    "test_q1_arr,test_q2_arr=np.vsplit(vectorizer.transform(test_que).toarray(),2)\n",
    "test_qdf1 = pd.DataFrame(test_q1_arr,index=X_test.index)\n",
    "test_qdf2 = pd.DataFrame(val_q2_arr,index=X_test.index)\n",
    "test_qdf = pd.concat([test_qdf1,test_qdf2],axis=1)\n",
    "cols = ['col' + str(i) for i in range(0,test_qdf.shape[1])]\n",
    "test_qdf.columns = cols\n",
    "X_test = pd.concat([test_qdf,X_test],axis=1)"
   ]
  },
  {
   "cell_type": "code",
   "execution_count": 35,
   "metadata": {
    "colab": {
     "base_uri": "https://localhost:8080/"
    },
    "id": "47lKXnegG4Dq",
    "outputId": "412e8133-fee5-4712-9150-13950b0e68ab"
   },
   "outputs": [
    {
     "data": {
      "text/plain": [
       "(10000, 8025)"
      ]
     },
     "execution_count": 35,
     "metadata": {},
     "output_type": "execute_result"
    }
   ],
   "source": [
    "# data1 = pd.concat([X_train,X_val,X_test] ,axis=0)\n",
    "# data2 = pd.concat([y_train,y_val,y_test],axis=0)\n",
    "# final = pd.concat([data1,data2],axis=1)"
   ]
  },
  {
   "cell_type": "code",
   "execution_count": 31,
   "metadata": {
    "colab": {
     "base_uri": "https://localhost:8080/"
    },
    "id": "SiqQ1PEgJDfS",
    "outputId": "cc7f756e-6418-4eab-8179-3ba4bd583fcc"
   },
   "outputs": [
    {
     "name": "stdout",
     "output_type": "stream",
     "text": [
      "class counts: [3515 3485],\n",
      "class weights: {0: 0.0002844950213371266, 1: 0.00028694404591104734}\n"
     ]
    }
   ],
   "source": [
    "counts = np.bincount(y_train)\n",
    "class_weights = {i: 1.0/count for i, count in enumerate(counts)}\n",
    "print (f\"class counts: {counts},\\nclass weights: {class_weights}\")"
   ]
  },
  {
   "cell_type": "code",
   "execution_count": 32,
   "metadata": {
    "id": "8sDBSKmSK4rI"
   },
   "outputs": [],
   "source": [
    "X_train = X_train.drop(['question1','question2'],axis=1)\n",
    "X_test = X_test.drop(['question1','question2'],axis=1)\n",
    "X_val = X_val.drop(['question1','question2'],axis=1)"
   ]
  },
  {
   "cell_type": "markdown",
   "metadata": {
    "id": "5CbC7QSdKXUj"
   },
   "source": [
    "**Machine Learning**"
   ]
  },
  {
   "cell_type": "code",
   "execution_count": 33,
   "metadata": {
    "id": "rX4sYvxpJDhE"
   },
   "outputs": [],
   "source": [
    "from sklearn import metrics\n",
    "from sklearn.linear_model import SGDClassifier\n",
    "from sklearn.ensemble import RandomForestClassifier\n",
    "from sklearn.metrics import log_loss, precision_recall_fscore_support\n",
    "import pickle"
   ]
  },
  {
   "cell_type": "code",
   "execution_count": 35,
   "metadata": {
    "id": "gy69cnQ8twe3"
   },
   "outputs": [],
   "source": [
    "model=pickle.load(open('model.pkl','rb'))"
   ]
  },
  {
   "cell_type": "code",
   "execution_count": 63,
   "metadata": {
    "id": "6hU1XJi8JDi5"
   },
   "outputs": [],
   "source": [
    "# Initialize model\n",
    "model = RandomForestClassifier(max_features='log2', min_samples_split=3,\n",
    "                       n_estimators=264)"
   ]
  },
  {
   "cell_type": "code",
   "execution_count": 64,
   "metadata": {
    "colab": {
     "base_uri": "https://localhost:8080/"
    },
    "id": "pbsFiQQ_JDku",
    "outputId": "0b9e9808-0236-490d-fa0c-6319b8f8efd8"
   },
   "outputs": [
    {
     "name": "stdout",
     "output_type": "stream",
     "text": [
      "Epoch: 00 | train_loss: 0.16352, val_loss: 0.47723\n",
      "Epoch: 10 | train_loss: 0.16375, val_loss: 0.47759\n",
      "Epoch: 20 | train_loss: 0.16399, val_loss: 0.47722\n",
      "Epoch: 30 | train_loss: 0.16488, val_loss: 0.47823\n",
      "Epoch: 40 | train_loss: 0.16440, val_loss: 0.47942\n"
     ]
    }
   ],
   "source": [
    "# Train model\n",
    "num_epochs = 50\n",
    "for epoch in range(num_epochs):\n",
    "    # Training\n",
    "    model.fit(X_train, y_train)\n",
    "\n",
    "    # Evaluation\n",
    "    train_loss = log_loss(y_train, model.predict_proba(X_train))\n",
    "    val_loss = log_loss(y_val, model.predict_proba(X_val))\n",
    "\n",
    "    if not epoch%10:\n",
    "        print(\n",
    "            f\"Epoch: {epoch:02d} | \"\n",
    "            f\"train_loss: {train_loss:.5f}, \"\n",
    "            f\"val_loss: {val_loss:.5f}\"\n",
    "        )"
   ]
  },
  {
   "cell_type": "code",
   "execution_count": 36,
   "metadata": {
    "colab": {
     "base_uri": "https://localhost:8080/"
    },
    "id": "xmW3QOu_JDr5",
    "outputId": "8e23f169-555a-42d3-a259-78d6c3d7eceb"
   },
   "outputs": [
    {
     "name": "stdout",
     "output_type": "stream",
     "text": [
      "{\n",
      "  \"precision\": 0.7483672122913956,\n",
      "  \"recall\": 0.7313333333333333,\n",
      "  \"f1\": 0.7268615797738225\n",
      "}\n"
     ]
    }
   ],
   "source": [
    "# Evaluate\n",
    "y_pred = model.predict(X_test)\n",
    "metrics = precision_recall_fscore_support(y_test, y_pred, average=\"weighted\")\n",
    "performance = {\"precision\": metrics[0], \"recall\": metrics[1], \"f1\": metrics[2]}\n",
    "print (json.dumps(performance, indent=2))"
   ]
  },
  {
   "cell_type": "code",
   "execution_count": 37,
   "metadata": {
    "colab": {
     "base_uri": "https://localhost:8080/"
    },
    "id": "3NHEr-5JZXjB",
    "outputId": "200b8b59-477e-45e1-8659-2be61d5d69c4"
   },
   "outputs": [
    {
     "data": {
      "text/plain": [
       "array([1])"
      ]
     },
     "execution_count": 37,
     "metadata": {},
     "output_type": "execute_result"
    }
   ],
   "source": [
    "p=np.array(list(X_test.iloc[1])).reshape(1,-1)\n",
    "model.predict(p)"
   ]
  },
  {
   "cell_type": "code",
   "execution_count": 38,
   "metadata": {
    "colab": {
     "base_uri": "https://localhost:8080/"
    },
    "id": "ekSnljtWZbto",
    "outputId": "298b0c22-89e3-4d73-8307-5926f0703291"
   },
   "outputs": [
    {
     "data": {
      "text/plain": [
       "{'not_duplicate': 0.47316919191919193, 'duplicate': 0.526830808080808}"
      ]
     },
     "execution_count": 38,
     "metadata": {},
     "output_type": "execute_result"
    }
   ],
   "source": [
    "{'not_duplicate':model.predict_proba(p)[0][0],'duplicate':model.predict_proba(p)[0][1]}"
   ]
  },
  {
   "cell_type": "code",
   "execution_count": 39,
   "metadata": {
    "colab": {
     "base_uri": "https://localhost:8080/"
    },
    "id": "TF5bdtnYb7oX",
    "outputId": "a250ffed-4bf8-4fd7-8420-97cada7b78f0"
   },
   "outputs": [
    {
     "data": {
      "text/plain": [
       "0.7023358585858586"
      ]
     },
     "execution_count": 39,
     "metadata": {},
     "output_type": "execute_result"
    }
   ],
   "source": [
    "# Determine first quantile softmax score for the correct class (on validation split)\n",
    "y_pred = model.predict(X_val)\n",
    "y_prob = model.predict_proba(X_val)\n",
    "threshold = np.quantile([y_prob[i][j] for i, j in enumerate(y_pred)], q=0.50)  # Q1\n",
    "threshold"
   ]
  },
  {
   "cell_type": "code",
   "execution_count": 40,
   "metadata": {
    "id": "3rBaBaLbb7sP"
   },
   "outputs": [],
   "source": [
    "# Custom predict function\n",
    "def custom_predict(y_prob, threshold, index):\n",
    "    \"\"\"Custom predict function that defaults\n",
    "    to an index if conditions are not met.\"\"\"\n",
    "    y_pred = [np.argmax(p) if max(p) > threshold else index for p in y_prob]\n",
    "    return np.array(y_pred)"
   ]
  },
  {
   "cell_type": "markdown",
   "metadata": {
    "id": "o3OtmjrB0vb5"
   },
   "source": [
    "**Evaluation**"
   ]
  },
  {
   "cell_type": "code",
   "execution_count": 42,
   "metadata": {
    "id": "VRlErpx0b7vc"
   },
   "outputs": [],
   "source": [
    "# Metrics\n",
    "metrics = {\"overall\": {}, \"class\": {}}"
   ]
  },
  {
   "cell_type": "code",
   "execution_count": 74,
   "metadata": {
    "id": "2wDLsTq_10Ce"
   },
   "outputs": [],
   "source": [
    "y_prob = model.predict_proba(X_test)\n",
    "# y_pred = custom_predict(y_prob=y_prob, threshold=threshold, index=0)\n",
    "y_pred = model.predict(X_test)"
   ]
  },
  {
   "cell_type": "markdown",
   "metadata": {
    "id": "nKrsVeDI3bNl"
   },
   "source": [
    "**Coarse Grained**"
   ]
  },
  {
   "cell_type": "code",
   "execution_count": 75,
   "metadata": {
    "colab": {
     "base_uri": "https://localhost:8080/"
    },
    "id": "VIZNJg8ob7xg",
    "outputId": "86b777d0-95cb-4f06-e01b-aba42a8a4085"
   },
   "outputs": [
    {
     "name": "stdout",
     "output_type": "stream",
     "text": [
      "{\n",
      "    \"precision\": 0.6825902335456475,\n",
      "    \"recall\": 0.8607764390896921,\n",
      "    \"f1\": 0.7613972764949675,\n",
      "    \"num_samples\": 1500.0\n",
      "}\n"
     ]
    }
   ],
   "source": [
    "# Overall metrics\n",
    "overall_metrics = precision_recall_fscore_support(y_test, y_pred, average=\"binary\")\n",
    "metrics[\"overall\"][\"precision\"] = overall_metrics[0]\n",
    "metrics[\"overall\"][\"recall\"] = overall_metrics[1]\n",
    "metrics[\"overall\"][\"f1\"] = overall_metrics[2]\n",
    "metrics[\"overall\"][\"num_samples\"] = np.float64(len(y_test))\n",
    "print (json.dumps(metrics[\"overall\"], indent=4))"
   ]
  },
  {
   "cell_type": "markdown",
   "metadata": {
    "id": "ya4st_Rd3hDD"
   },
   "source": [
    "**Fine Grained**\n",
    "\n",
    "Inspecting these coarse-grained, overall metrics is a start but we can go deeper by evaluating the same fine-grained metrics at the categorical feature levels."
   ]
  },
  {
   "cell_type": "markdown",
   "metadata": {
    "id": "NvE3c-x-D39a"
   },
   "source": [
    "**Confusion Matrix**"
   ]
  },
  {
   "cell_type": "code",
   "execution_count": 76,
   "metadata": {
    "colab": {
     "base_uri": "https://localhost:8080/",
     "height": 447
    },
    "id": "-cmTe4wcb70_",
    "outputId": "b9191e51-1fc3-4c7f-ce2c-86c01d5bc91a"
   },
   "outputs": [
    {
     "data": {
      "text/plain": [
       "<Axes: >"
      ]
     },
     "execution_count": 76,
     "metadata": {},
     "output_type": "execute_result"
    },
    {
     "data": {
      "image/png": "[encoded data removed]",
      "text/plain": [
       "<Figure size 640x480 with 2 Axes>"
      ]
     },
     "metadata": {},
     "output_type": "display_data"
    }
   ],
   "source": [
    "from sklearn.metrics import confusion_matrix\n",
    "import seaborn as sns\n",
    "con=confusion_matrix(y_test,y_pred)\n",
    "sns.heatmap(con,annot=True,fmt=\".3f\")"
   ]
  },
  {
   "cell_type": "markdown",
   "metadata": {
    "id": "jAf9srUpIBh9"
   },
   "source": [
    "**Confident learning**"
   ]
  },
  {
   "cell_type": "code",
   "execution_count": 68,
   "metadata": {
    "colab": {
     "base_uri": "https://localhost:8080/"
    },
    "id": "4ZjKHHKvaZim",
    "outputId": "20294523-274f-4647-9a70-b37adc5ecb0b"
   },
   "outputs": [
    {
     "name": "stdout",
     "output_type": "stream",
     "text": [
      "\u001b[?25l     \u001b[90m━━━━━━━━━━━━━━━━━━━━━━━━━━━━━━━━━━━━━━━━\u001b[0m \u001b[32m0.0/78.8 kB\u001b[0m \u001b[31m?\u001b[0m eta \u001b[36m-:--:--\u001b[0m\r",
      "\u001b[2K     \u001b[90m━━━━━━━━━━━━━━━━━━━━━━━━━━━━━━━━━━━━━━━━\u001b[0m \u001b[32m78.8/78.8 kB\u001b[0m \u001b[31m3.5 MB/s\u001b[0m eta \u001b[36m0:00:00\u001b[0m\n",
      "\u001b[?25h"
     ]
    }
   ],
   "source": [
    "!pip install cleanlab==1.0.1 -q"
   ]
  },
  {
   "cell_type": "code",
   "execution_count": 69,
   "metadata": {
    "id": "z6iiVc7tH8L2"
   },
   "outputs": [],
   "source": [
    "import cleanlab\n",
    "from cleanlab.pruning import get_noise_indices"
   ]
  },
  {
   "cell_type": "code",
   "execution_count": 78,
   "metadata": {
    "id": "NPfOcRutH8OF"
   },
   "outputs": [],
   "source": [
    "# Determine potential labeling errors\n",
    "label_error_indices = get_noise_indices(\n",
    "            s=y_test,\n",
    "            psx=y_prob,\n",
    "            sorted_index_method=\"self_confidence\",\n",
    "            verbose=0)"
   ]
  },
  {
   "cell_type": "code",
   "execution_count": 79,
   "metadata": {
    "colab": {
     "base_uri": "https://localhost:8080/"
    },
    "id": "ERZR981NH8P8",
    "outputId": "76742f61-7e42-4264-e34b-7e75f49e28ba"
   },
   "outputs": [
    {
     "name": "stdout",
     "output_type": "stream",
     "text": [
      "true: 1\n",
      "pred: 0\n",
      "true: 0\n",
      "pred: 1\n",
      "true: 1\n",
      "pred: 0\n",
      "true: 0\n",
      "pred: 1\n",
      "true: 1\n",
      "pred: 0\n"
     ]
    }
   ],
   "source": [
    "num_samples = 5\n",
    "for index in label_error_indices[:num_samples]:\n",
    "    # print (\"que1:\", X_test.iloc[index][8000:10])\n",
    "    # print (\"que2:\", X_test.iloc[index][8000:10])\n",
    "    print (\"true:\", y_test.iloc[index])\n",
    "    print (\"pred:\", y_pred[index])"
   ]
  }
 ],
 "metadata": {
  "colab": {
   "provenance": []
  },
  "kernelspec": {
   "display_name": "Python 3 (ipykernel)",
   "language": "python",
   "name": "python3"
  },
  "language_info": {
   "codemirror_mode": {
    "name": "ipython",
    "version": 3
   },
   "file_extension": ".py",
   "mimetype": "text/x-python",
   "name": "python",
   "nbconvert_exporter": "python",
   "pygments_lexer": "ipython3",
   "version": "3.10.9"
  }
 },
 "nbformat": 4,
 "nbformat_minor": 1
}
